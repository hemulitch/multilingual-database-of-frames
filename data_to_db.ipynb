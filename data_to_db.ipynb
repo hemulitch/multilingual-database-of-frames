{
 "cells": [
  {
   "cell_type": "markdown",
   "metadata": {},
   "source": [
    "### Импорты"
   ]
  },
  {
   "cell_type": "code",
   "execution_count": 14,
   "metadata": {},
   "outputs": [
    {
     "name": "stderr",
     "output_type": "stream",
     "text": [
      "[nltk_data] Downloading package framenet_v17 to\n",
      "[nltk_data]     /Users/annsmklv/nltk_data...\n",
      "[nltk_data]   Package framenet_v17 is already up-to-date!\n"
     ]
    }
   ],
   "source": [
    "import sqlite3\n",
    "import pandas as pd\n",
    "import nltk\n",
    "nltk.download('framenet_v17')\n",
    "from nltk.corpus import framenet as fn\n",
    "import re"
   ]
  },
  {
   "cell_type": "markdown",
   "metadata": {},
   "source": [
    "### База данных"
   ]
  },
  {
   "cell_type": "code",
   "execution_count": 2,
   "metadata": {},
   "outputs": [],
   "source": [
    "con = sqlite3.connect('multilinual_FrameNet.db')  \n",
    "cur = con.cursor()  "
   ]
  },
  {
   "cell_type": "markdown",
   "metadata": {},
   "source": [
    "### Berkeley FrameNet"
   ]
  },
  {
   "cell_type": "markdown",
   "metadata": {},
   "source": [
    "Данные для BFN будем брать из nltk\n",
    "\n",
    "#### 1. Фреймы"
   ]
  },
  {
   "cell_type": "code",
   "execution_count": 8,
   "metadata": {},
   "outputs": [],
   "source": [
    "data = []\n",
    "for frame in fn.frames():\n",
    "    data.append((int(frame.ID), frame.name, \" \".join([fe for fe in frame.FE]), frame.definition))"
   ]
  },
  {
   "cell_type": "code",
   "execution_count": 22,
   "metadata": {},
   "outputs": [
    {
     "data": {
      "text/html": [
       "<div>\n",
       "<style scoped>\n",
       "    .dataframe tbody tr th:only-of-type {\n",
       "        vertical-align: middle;\n",
       "    }\n",
       "\n",
       "    .dataframe tbody tr th {\n",
       "        vertical-align: top;\n",
       "    }\n",
       "\n",
       "    .dataframe thead th {\n",
       "        text-align: right;\n",
       "    }\n",
       "</style>\n",
       "<table border=\"1\" class=\"dataframe\">\n",
       "  <thead>\n",
       "    <tr style=\"text-align: right;\">\n",
       "      <th></th>\n",
       "      <th>id</th>\n",
       "      <th>frame</th>\n",
       "      <th>frame_elements</th>\n",
       "      <th>definition</th>\n",
       "    </tr>\n",
       "  </thead>\n",
       "  <tbody>\n",
       "    <tr>\n",
       "      <th>0</th>\n",
       "      <td>2031</td>\n",
       "      <td>Abandonment</td>\n",
       "      <td>Agent Theme Place Time Manner Duration Explana...</td>\n",
       "      <td>An Agent leaves behind a Theme effectively ren...</td>\n",
       "    </tr>\n",
       "    <tr>\n",
       "      <th>1</th>\n",
       "      <td>262</td>\n",
       "      <td>Abounding_with</td>\n",
       "      <td>Theme Location Degree Depictive Time</td>\n",
       "      <td>A Location is filled or covered with the Theme...</td>\n",
       "    </tr>\n",
       "    <tr>\n",
       "      <th>2</th>\n",
       "      <td>830</td>\n",
       "      <td>Absorb_heat</td>\n",
       "      <td>Entity Container Heat_source Place Medium Mann...</td>\n",
       "      <td>An Entity (generally food) is exposed to a Hea...</td>\n",
       "    </tr>\n",
       "  </tbody>\n",
       "</table>\n",
       "</div>"
      ],
      "text/plain": [
       "     id           frame                                     frame_elements  \\\n",
       "0  2031     Abandonment  Agent Theme Place Time Manner Duration Explana...   \n",
       "1   262  Abounding_with               Theme Location Degree Depictive Time   \n",
       "2   830     Absorb_heat  Entity Container Heat_source Place Medium Mann...   \n",
       "\n",
       "                                          definition  \n",
       "0  An Agent leaves behind a Theme effectively ren...  \n",
       "1  A Location is filled or covered with the Theme...  \n",
       "2  An Entity (generally food) is exposed to a Hea...  "
      ]
     },
     "execution_count": 22,
     "metadata": {},
     "output_type": "execute_result"
    }
   ],
   "source": [
    "example = data[:3]\n",
    "bfn_frames = pd.DataFrame({'id': [x[0] for x in example],\n",
    "                           'frame':[x[1] for x in example],\n",
    "                           'frame_elements':[x[2] for x in example],\n",
    "                           'definition':[x[3] for x in example]}, index=None)\n",
    "bfn_frames\n"
   ]
  },
  {
   "cell_type": "markdown",
   "metadata": {},
   "source": [
    "Загружаем в таблицу"
   ]
  },
  {
   "cell_type": "code",
   "execution_count": 9,
   "metadata": {},
   "outputs": [],
   "source": [
    "cur.execute(\"\"\"\n",
    "CREATE TABLE bfn (\n",
    "    id INT, \n",
    "    frame TEXT, \n",
    "    frame_elements TEXT,\n",
    "    definition TEXT,\n",
    "    PRIMARY KEY (id)\n",
    ")\n",
    "\"\"\")\n",
    "cur.executemany(\"INSERT INTO bfn VALUES (?, ?, ?, ?)\", data)\n",
    "con.commit()"
   ]
  },
  {
   "cell_type": "markdown",
   "metadata": {},
   "source": [
    "#### 2. Лексические единицы"
   ]
  },
  {
   "cell_type": "code",
   "execution_count": 23,
   "metadata": {},
   "outputs": [],
   "source": [
    "lexical_units = []\n",
    "for frame in fn.frames():\n",
    "    frame_id = frame.ID\n",
    "    lus = frame.lexUnit.items()\n",
    "    for k, v in lus:\n",
    "        id = v.ID\n",
    "        word, pos = k.split('.')\n",
    "        lexical_units.append((id, word, pos, frame_id))"
   ]
  },
  {
   "cell_type": "code",
   "execution_count": 25,
   "metadata": {},
   "outputs": [
    {
     "data": {
      "text/html": [
       "<div>\n",
       "<style scoped>\n",
       "    .dataframe tbody tr th:only-of-type {\n",
       "        vertical-align: middle;\n",
       "    }\n",
       "\n",
       "    .dataframe tbody tr th {\n",
       "        vertical-align: top;\n",
       "    }\n",
       "\n",
       "    .dataframe thead th {\n",
       "        text-align: right;\n",
       "    }\n",
       "</style>\n",
       "<table border=\"1\" class=\"dataframe\">\n",
       "  <thead>\n",
       "    <tr style=\"text-align: right;\">\n",
       "      <th></th>\n",
       "      <th>id</th>\n",
       "      <th>word</th>\n",
       "      <th>pos</th>\n",
       "      <th>frame_id</th>\n",
       "    </tr>\n",
       "  </thead>\n",
       "  <tbody>\n",
       "    <tr>\n",
       "      <th>0</th>\n",
       "      <td>14839</td>\n",
       "      <td>abandon</td>\n",
       "      <td>v</td>\n",
       "      <td>2031</td>\n",
       "    </tr>\n",
       "    <tr>\n",
       "      <th>1</th>\n",
       "      <td>14841</td>\n",
       "      <td>leave</td>\n",
       "      <td>v</td>\n",
       "      <td>2031</td>\n",
       "    </tr>\n",
       "    <tr>\n",
       "      <th>2</th>\n",
       "      <td>14842</td>\n",
       "      <td>abandonment</td>\n",
       "      <td>n</td>\n",
       "      <td>2031</td>\n",
       "    </tr>\n",
       "  </tbody>\n",
       "</table>\n",
       "</div>"
      ],
      "text/plain": [
       "      id         word pos  frame_id\n",
       "0  14839      abandon   v      2031\n",
       "1  14841        leave   v      2031\n",
       "2  14842  abandonment   n      2031"
      ]
     },
     "execution_count": 25,
     "metadata": {},
     "output_type": "execute_result"
    }
   ],
   "source": [
    "example = lexical_units[:3]\n",
    "example_lus = pd.DataFrame({'id': [x[0] for x in example],\n",
    "                           'word':[x[1] for x in example],\n",
    "                           'pos':[x[2] for x in example],\n",
    "                           'frame_id':[x[3] for x in example]}, index=None)\n",
    "example_lus\n"
   ]
  },
  {
   "cell_type": "markdown",
   "metadata": {},
   "source": [
    "Создаем таблицу и добавляем туда наши данные"
   ]
  },
  {
   "cell_type": "code",
   "execution_count": 24,
   "metadata": {},
   "outputs": [],
   "source": [
    "cur.execute(\"\"\"\n",
    "CREATE TABLE bfn_lu (\n",
    "    id INT, \n",
    "    word TEXT,\n",
    "    pos TEXT,\n",
    "    frame_id INT, \n",
    "    PRIMARY KEY (id)\n",
    ")\n",
    "\"\"\")\n",
    "cur.executemany(\"INSERT INTO bfn_lu VALUES (?, ?, ?, ?)\", lexical_units)\n",
    "con.commit()"
   ]
  },
  {
   "cell_type": "markdown",
   "metadata": {},
   "source": [
    "#### 3. Типы отношений и отношения между фреймами "
   ]
  },
  {
   "cell_type": "code",
   "execution_count": 3,
   "metadata": {},
   "outputs": [],
   "source": [
    "types = []\n",
    "for type in list(fn.frame_relation_types()):\n",
    "    types.append((int(type.ID), type.name, type.superFrameName, type.subFrameName, ''))"
   ]
  },
  {
   "cell_type": "code",
   "execution_count": 8,
   "metadata": {},
   "outputs": [
    {
     "data": {
      "text/html": [
       "<div>\n",
       "<style scoped>\n",
       "    .dataframe tbody tr th:only-of-type {\n",
       "        vertical-align: middle;\n",
       "    }\n",
       "\n",
       "    .dataframe tbody tr th {\n",
       "        vertical-align: top;\n",
       "    }\n",
       "\n",
       "    .dataframe thead th {\n",
       "        text-align: right;\n",
       "    }\n",
       "</style>\n",
       "<table border=\"1\" class=\"dataframe\">\n",
       "  <thead>\n",
       "    <tr style=\"text-align: right;\">\n",
       "      <th></th>\n",
       "      <th>id</th>\n",
       "      <th>name</th>\n",
       "      <th>superframe</th>\n",
       "      <th>subframe</th>\n",
       "    </tr>\n",
       "  </thead>\n",
       "  <tbody>\n",
       "    <tr>\n",
       "      <th>0</th>\n",
       "      <td>10</td>\n",
       "      <td>Causative_of</td>\n",
       "      <td>Causative</td>\n",
       "      <td>Inchoative/state</td>\n",
       "    </tr>\n",
       "    <tr>\n",
       "      <th>1</th>\n",
       "      <td>9</td>\n",
       "      <td>Inchoative_of</td>\n",
       "      <td>Inchoative</td>\n",
       "      <td>Stative</td>\n",
       "    </tr>\n",
       "    <tr>\n",
       "      <th>2</th>\n",
       "      <td>1</td>\n",
       "      <td>Inheritance</td>\n",
       "      <td>Parent</td>\n",
       "      <td>Child</td>\n",
       "    </tr>\n",
       "  </tbody>\n",
       "</table>\n",
       "</div>"
      ],
      "text/plain": [
       "   id           name  superframe          subframe\n",
       "0  10   Causative_of   Causative  Inchoative/state\n",
       "1   9  Inchoative_of  Inchoative           Stative\n",
       "2   1    Inheritance      Parent             Child"
      ]
     },
     "execution_count": 8,
     "metadata": {},
     "output_type": "execute_result"
    }
   ],
   "source": [
    "example = types[:3]\n",
    "example_types = pd.DataFrame({'id': [x[0] for x in example],\n",
    "                           'name':[x[1] for x in example],\n",
    "                           'superframe':[x[2] for x in example],\n",
    "                           'subframe':[x[3] for x in example]}, index=None)\n",
    "example_types"
   ]
  },
  {
   "cell_type": "code",
   "execution_count": 4,
   "metadata": {},
   "outputs": [],
   "source": [
    "cur.execute(\"\"\"\n",
    "CREATE TABLE relations (\n",
    "    id INT, \n",
    "    type TEXT,\n",
    "    superframe TEXT,\n",
    "    subframe TEXT,\n",
    "    definition TEXT, \n",
    "    PRIMARY KEY (id)\n",
    ")\n",
    "\"\"\")\n",
    "cur.executemany(\"INSERT INTO relations VALUES (?, ?, ?, ?, ?)\", types)\n",
    "con.commit()"
   ]
  },
  {
   "cell_type": "markdown",
   "metadata": {},
   "source": [
    "Так как соединяем по id, создадим словарь, в котором ключами будут названия фреймов, а значениями - их id"
   ]
  },
  {
   "cell_type": "code",
   "execution_count": 5,
   "metadata": {},
   "outputs": [],
   "source": [
    "ids = {}\n",
    "for t in types:\n",
    "    ids[t[1]] = t[0]"
   ]
  },
  {
   "cell_type": "code",
   "execution_count": 6,
   "metadata": {},
   "outputs": [],
   "source": [
    "bfn_relations = []\n",
    "for rel in fn.frame_relations():\n",
    "    bfn_relations.append((rel.superFrame.ID, rel.subFrame.ID, ids[rel.type.name]))"
   ]
  },
  {
   "cell_type": "code",
   "execution_count": 9,
   "metadata": {},
   "outputs": [
    {
     "data": {
      "text/html": [
       "<div>\n",
       "<style scoped>\n",
       "    .dataframe tbody tr th:only-of-type {\n",
       "        vertical-align: middle;\n",
       "    }\n",
       "\n",
       "    .dataframe tbody tr th {\n",
       "        vertical-align: top;\n",
       "    }\n",
       "\n",
       "    .dataframe thead th {\n",
       "        text-align: right;\n",
       "    }\n",
       "</style>\n",
       "<table border=\"1\" class=\"dataframe\">\n",
       "  <thead>\n",
       "    <tr style=\"text-align: right;\">\n",
       "      <th></th>\n",
       "      <th>parent_id</th>\n",
       "      <th>child_id</th>\n",
       "      <th>relation_id</th>\n",
       "    </tr>\n",
       "  </thead>\n",
       "  <tbody>\n",
       "    <tr>\n",
       "      <th>0</th>\n",
       "      <td>262</td>\n",
       "      <td>1904</td>\n",
       "      <td>1</td>\n",
       "    </tr>\n",
       "    <tr>\n",
       "      <th>1</th>\n",
       "      <td>1602</td>\n",
       "      <td>1603</td>\n",
       "      <td>1</td>\n",
       "    </tr>\n",
       "    <tr>\n",
       "      <th>2</th>\n",
       "      <td>124</td>\n",
       "      <td>236</td>\n",
       "      <td>1</td>\n",
       "    </tr>\n",
       "  </tbody>\n",
       "</table>\n",
       "</div>"
      ],
      "text/plain": [
       "   parent_id  child_id  relation_id\n",
       "0        262      1904            1\n",
       "1       1602      1603            1\n",
       "2        124       236            1"
      ]
     },
     "execution_count": 9,
     "metadata": {},
     "output_type": "execute_result"
    }
   ],
   "source": [
    "example = bfn_relations[:3]\n",
    "example_rel = pd.DataFrame({'parent_id': [x[0] for x in example],\n",
    "                           'child_id':[x[1] for x in example],\n",
    "                           'relation_id':[x[2] for x in example]}, index=None)\n",
    "example_rel"
   ]
  },
  {
   "cell_type": "code",
   "execution_count": 7,
   "metadata": {},
   "outputs": [],
   "source": [
    "cur.execute(\"\"\"\n",
    "CREATE TABLE BFN_relations (\n",
    "    parent_id INT, \n",
    "    child_id INT, \n",
    "    relation_id TEXT\n",
    ")\n",
    "\"\"\")\n",
    "cur.executemany(\"INSERT INTO BFN_relations VALUES (?, ?, ?)\", bfn_relations)\n",
    "con.commit()"
   ]
  },
  {
   "cell_type": "markdown",
   "metadata": {},
   "source": [
    "### Ресурсы\n",
    "\n",
    "Информация была собрана нами вручную."
   ]
  },
  {
   "cell_type": "code",
   "execution_count": 10,
   "metadata": {},
   "outputs": [],
   "source": [
    "meta = [\n",
    "    ('DiCoEnviro', 'Экология', 'Французский, английский, португальский, китайский',\t'https://olst.ling.umontreal.ca/dicoenviro/framed/index.php', '-', '', 203, None, ''),\n",
    "    ('DiCoInfo', 'Информация, интернет', 'Французский, английский, арабский', 'https://olst.ling.umontreal.ca/dicoinfo/framed/', '-', '', None, None, 'https://olst.ling.umontreal.ca/dicoinfo/framed/'),\n",
    "    ('SweFN', 'Без определённой тематики', 'Шведский', 'https://spraakbanken.gu.se/karp/#?mode=DEFAULT&resources=swefn&lang=eng&advanced=false', 'https://spraakbanken.gu.se/en/resources?s=SweFN&language=All', '', 1195, 39210, 'https://spraakbanken.gu.se/en/resources/swefn'),\n",
    "    ('FrameNet Brasil', 'Без определённой тематики', 'Бразильский португальский, английский (вероятно, ещё)', 'https://webtool.framenetbr.ufjf.br/index.php/webtool/report/frame/main', '-', '', None, None, ''),\n",
    "    ('German FrameNet', 'Без определённой тематики', 'Немецкий', 'https://framenet-constructicon.hhu.de/framenet/', 'https://www.coli.uni-saarland.de/projects/salsa/corpus/', '', 1285, 13905, 'https://framenet-constructicon.hhu.de/project/publications'),\n",
    "    ('Spanish FrameNet', 'Без определённой тематики', 'Испанский', 'http://gemini.uab.es/SFN', '-', '', None, None, ''),\n",
    "    ('BiFrameNet', 'Без определённой тематики', 'Английский', 'https://cse.hkust.edu.hk/~hltc/BiFrameNet/ontology/index.html', '-', '', None, None, ''),\n",
    "    ('GFOL', 'Без определённой тематики', 'Немецкий', 'https://coerll.utexas.edu/frames/frame-index', '-', '', 29, None, '')\n",
    "]\t\t\t\t\t\t\t\t"
   ]
  },
  {
   "cell_type": "code",
   "execution_count": 12,
   "metadata": {},
   "outputs": [
    {
     "data": {
      "text/html": [
       "<div>\n",
       "<style scoped>\n",
       "    .dataframe tbody tr th:only-of-type {\n",
       "        vertical-align: middle;\n",
       "    }\n",
       "\n",
       "    .dataframe tbody tr th {\n",
       "        vertical-align: top;\n",
       "    }\n",
       "\n",
       "    .dataframe thead th {\n",
       "        text-align: right;\n",
       "    }\n",
       "</style>\n",
       "<table border=\"1\" class=\"dataframe\">\n",
       "  <thead>\n",
       "    <tr style=\"text-align: right;\">\n",
       "      <th></th>\n",
       "      <th>resource</th>\n",
       "      <th>theme</th>\n",
       "      <th>language</th>\n",
       "      <th>online</th>\n",
       "      <th>offline</th>\n",
       "      <th>library</th>\n",
       "      <th>size</th>\n",
       "      <th>number_of_LUs</th>\n",
       "      <th>publications</th>\n",
       "    </tr>\n",
       "  </thead>\n",
       "  <tbody>\n",
       "    <tr>\n",
       "      <th>0</th>\n",
       "      <td>DiCoEnviro</td>\n",
       "      <td>Экология</td>\n",
       "      <td>Французский, английский, португальский, китайский</td>\n",
       "      <td>https://olst.ling.umontreal.ca/dicoenviro/fram...</td>\n",
       "      <td>-</td>\n",
       "      <td></td>\n",
       "      <td>203.0</td>\n",
       "      <td>NaN</td>\n",
       "      <td></td>\n",
       "    </tr>\n",
       "    <tr>\n",
       "      <th>1</th>\n",
       "      <td>DiCoInfo</td>\n",
       "      <td>Информация, интернет</td>\n",
       "      <td>Французский, английский, арабский</td>\n",
       "      <td>https://olst.ling.umontreal.ca/dicoinfo/framed/</td>\n",
       "      <td>-</td>\n",
       "      <td></td>\n",
       "      <td>NaN</td>\n",
       "      <td>NaN</td>\n",
       "      <td>https://olst.ling.umontreal.ca/dicoinfo/framed/</td>\n",
       "    </tr>\n",
       "    <tr>\n",
       "      <th>2</th>\n",
       "      <td>SweFN</td>\n",
       "      <td>Без определённой тематики</td>\n",
       "      <td>Шведский</td>\n",
       "      <td>https://spraakbanken.gu.se/karp/#?mode=DEFAULT...</td>\n",
       "      <td>https://spraakbanken.gu.se/en/resources?s=SweF...</td>\n",
       "      <td></td>\n",
       "      <td>1195.0</td>\n",
       "      <td>39210.0</td>\n",
       "      <td>https://spraakbanken.gu.se/en/resources/swefn</td>\n",
       "    </tr>\n",
       "    <tr>\n",
       "      <th>3</th>\n",
       "      <td>FrameNet Brasil</td>\n",
       "      <td>Без определённой тематики</td>\n",
       "      <td>Бразильский португальский, английский (вероятн...</td>\n",
       "      <td>https://webtool.framenetbr.ufjf.br/index.php/w...</td>\n",
       "      <td>-</td>\n",
       "      <td></td>\n",
       "      <td>NaN</td>\n",
       "      <td>NaN</td>\n",
       "      <td></td>\n",
       "    </tr>\n",
       "    <tr>\n",
       "      <th>4</th>\n",
       "      <td>German FrameNet</td>\n",
       "      <td>Без определённой тематики</td>\n",
       "      <td>Немецкий</td>\n",
       "      <td>https://framenet-constructicon.hhu.de/framenet/</td>\n",
       "      <td>https://www.coli.uni-saarland.de/projects/sals...</td>\n",
       "      <td></td>\n",
       "      <td>1285.0</td>\n",
       "      <td>13905.0</td>\n",
       "      <td>https://framenet-constructicon.hhu.de/project/...</td>\n",
       "    </tr>\n",
       "  </tbody>\n",
       "</table>\n",
       "</div>"
      ],
      "text/plain": [
       "          resource                      theme  \\\n",
       "0       DiCoEnviro                   Экология   \n",
       "1         DiCoInfo       Информация, интернет   \n",
       "2            SweFN  Без определённой тематики   \n",
       "3  FrameNet Brasil  Без определённой тематики   \n",
       "4  German FrameNet  Без определённой тематики   \n",
       "\n",
       "                                            language  \\\n",
       "0  Французский, английский, португальский, китайский   \n",
       "1                  Французский, английский, арабский   \n",
       "2                                           Шведский   \n",
       "3  Бразильский португальский, английский (вероятн...   \n",
       "4                                           Немецкий   \n",
       "\n",
       "                                              online  \\\n",
       "0  https://olst.ling.umontreal.ca/dicoenviro/fram...   \n",
       "1    https://olst.ling.umontreal.ca/dicoinfo/framed/   \n",
       "2  https://spraakbanken.gu.se/karp/#?mode=DEFAULT...   \n",
       "3  https://webtool.framenetbr.ufjf.br/index.php/w...   \n",
       "4    https://framenet-constructicon.hhu.de/framenet/   \n",
       "\n",
       "                                             offline library    size  \\\n",
       "0                                                  -           203.0   \n",
       "1                                                  -             NaN   \n",
       "2  https://spraakbanken.gu.se/en/resources?s=SweF...          1195.0   \n",
       "3                                                  -             NaN   \n",
       "4  https://www.coli.uni-saarland.de/projects/sals...          1285.0   \n",
       "\n",
       "   number_of_LUs                                       publications  \n",
       "0            NaN                                                     \n",
       "1            NaN    https://olst.ling.umontreal.ca/dicoinfo/framed/  \n",
       "2        39210.0      https://spraakbanken.gu.se/en/resources/swefn  \n",
       "3            NaN                                                     \n",
       "4        13905.0  https://framenet-constructicon.hhu.de/project/...  "
      ]
     },
     "execution_count": 12,
     "metadata": {},
     "output_type": "execute_result"
    }
   ],
   "source": [
    "example = meta[:5]\n",
    "example_meta = pd.DataFrame({'resource': [x[0] for x in example],\n",
    "                           'theme':[x[1] for x in example],\n",
    "                           'language':[x[2] for x in example],\n",
    "                           'online':[x[3] for x in example],\n",
    "                           'offline':[x[4] for x in example],\n",
    "                           'library':[x[5] for x in example],\n",
    "                           'size':[x[6] for x in example],\n",
    "                           'number_of_LUs':[x[7] for x in example],\n",
    "                           'publications':[x[8] for x in example]\n",
    "                           }, index=None)\n",
    "example_meta"
   ]
  },
  {
   "cell_type": "code",
   "execution_count": 11,
   "metadata": {},
   "outputs": [],
   "source": [
    "cur.execute(\"\"\"\n",
    "CREATE TABLE resources (\n",
    "    resource TEXT,\n",
    "    theme TEXT,\n",
    "    language TEXT, \n",
    "    online_availability TEXT,\n",
    "    offline_availability TEXT,\n",
    "    library TEXT,\n",
    "    size INT,\n",
    "    number_of_LUs INT,\n",
    "    publication TEXT\n",
    ")\n",
    "\"\"\")\n",
    "cur.executemany(\"INSERT INTO resources VALUES (?, ?, ?, ?, ?, ?, ?, ?, ?)\", meta)\n",
    "con.commit()"
   ]
  },
  {
   "cell_type": "markdown",
   "metadata": {},
   "source": [
    "### SweFN\n",
    "\n",
    "Данные из SweFN будем доставать парсингом xml-файла\n",
    "\n",
    "#### 1. Фреймы"
   ]
  },
  {
   "cell_type": "code",
   "execution_count": 13,
   "metadata": {},
   "outputs": [],
   "source": [
    "import xml.etree.ElementTree as ET\n",
    "tree = ET.parse('./swefn-full/swefn.xml')\n",
    "root = tree.getroot()\n",
    "lexical_entries = root.findall('Lexicon/LexicalEntry/Sense')"
   ]
  },
  {
   "cell_type": "code",
   "execution_count": 15,
   "metadata": {},
   "outputs": [],
   "source": [
    "data = []\n",
    "for i, le in enumerate(lexical_entries):\n",
    "    id = i\n",
    "    frame = le.attrib['id'].split('--')[1]\n",
    "    frame_elements = []\n",
    "    definition = ''\n",
    "    attrs = [x.attrib for x in le.findall('feat')]\n",
    "    for attr in attrs:\n",
    "        if attr['att'] == 'coreElement' or attr['att'] == 'peripheralElement':\n",
    "            frame_elements.append(attr['val'])\n",
    "        elif attr['att'] == 'definition':\n",
    "            definition = re.sub('<.*?>', '', attr['val'])\n",
    "    data.append((i, frame, \" \".join(frame_elements), definition))"
   ]
  },
  {
   "cell_type": "code",
   "execution_count": 19,
   "metadata": {},
   "outputs": [],
   "source": [
    "cur.execute(\"\"\"\n",
    "CREATE TABLE swefn (\n",
    "    id INT, \n",
    "    frame TEXT, \n",
    "    frame_elements TEXT,\n",
    "    definition TEXT,\n",
    "    PRIMARY KEY (id)\n",
    ")\n",
    "\"\"\")\n",
    "cur.executemany(\"INSERT INTO swefn VALUES (?, ?, ?, ?)\", data)\n",
    "con.commit()"
   ]
  },
  {
   "cell_type": "markdown",
   "metadata": {},
   "source": [
    "#### 2. Лексические единицы"
   ]
  },
  {
   "cell_type": "code",
   "execution_count": 25,
   "metadata": {},
   "outputs": [],
   "source": [
    "import xml.etree.ElementTree as ET\n",
    "tree = ET.parse('./swefn-full/swefn-ex.xml')\n",
    "root = tree.getroot()\n",
    "tokens = root.findall('corpus/text/sentence/token')"
   ]
  },
  {
   "cell_type": "code",
   "execution_count": null,
   "metadata": {},
   "outputs": [],
   "source": [
    "import xml.etree.ElementTree as ET\n",
    "tree = ET.parse('./swefn-full/swefn-ex.xml')\n",
    "root = tree.getroot()\n",
    "tokens = root.findall('corpus/text/sentence/token')"
   ]
  },
  {
   "cell_type": "markdown",
   "metadata": {},
   "source": [
    "### Связи между фреймами в BFN и фреймами в SweFN"
   ]
  },
  {
   "cell_type": "code",
   "execution_count": 20,
   "metadata": {},
   "outputs": [],
   "source": [
    "import xml.etree.ElementTree as ET\n",
    "tree = ET.parse('./swefn-full/swefn.xml')\n",
    "root = tree.getroot()\n",
    "lexical_entries = root.findall('Lexicon/LexicalEntry/Sense')"
   ]
  },
  {
   "cell_type": "markdown",
   "metadata": {},
   "source": [
    "Большая часть фреймов в шведском фреймнете являются копией фреймов из BFN, поэтому мы вытаскиваем аттрибут BFNID. Для фреймов, для которых нет такого аттрибута, мы будем проставлять связи вручную"
   ]
  },
  {
   "cell_type": "code",
   "execution_count": 21,
   "metadata": {},
   "outputs": [],
   "source": [
    "collocations = []\n",
    "for i, le in enumerate(lexical_entries):\n",
    "    frame = le.attrib['id'].split('--')[1]\n",
    "    feats = le.findall('feat')\n",
    "    if_colloc = False\n",
    "    for f in feats:\n",
    "        if f.attrib['att'] == \"BFNID\":\n",
    "            collocations.append((frame, f.attrib['val']))\n",
    "            if_colloc = True\n",
    "    if not if_colloc:\n",
    "        collocations.append((frame, None))"
   ]
  },
  {
   "cell_type": "code",
   "execution_count": 22,
   "metadata": {},
   "outputs": [],
   "source": [
    "query = \"\"\"\n",
    "SELECT id, frame\n",
    "FROM bfn\n",
    "\"\"\"\n",
    "cur.execute(query)\n",
    "results = cur.fetchall()"
   ]
  },
  {
   "cell_type": "code",
   "execution_count": 23,
   "metadata": {},
   "outputs": [],
   "source": [
    "bfn = {}\n",
    "for r in results:\n",
    "    bfn[r[1]] = r[0]\n",
    "    \n",
    "bfn_swefn = []\n",
    "for i, frame in enumerate(collocations):\n",
    "    if frame[1] in bfn:\n",
    "        bfn_swefn.append((bfn[frame[1]], i, \"ExactMatch\"))\n",
    "    else:\n",
    "        bfn_swefn.append((None, i, \"??\"))"
   ]
  },
  {
   "cell_type": "code",
   "execution_count": 24,
   "metadata": {},
   "outputs": [],
   "source": [
    "cur.execute(\"\"\"\n",
    "CREATE TABLE bfn_swefn_match (\n",
    "    bfn_frame_id INT, \n",
    "    swefn_frame_id INT, \n",
    "    match TEXT\n",
    ")\n",
    "\"\"\")\n",
    "cur.executemany(\"INSERT INTO bfn_swefn_match VALUES (?, ?, ?)\", bfn_swefn)\n",
    "con.commit()"
   ]
  },
  {
   "cell_type": "markdown",
   "metadata": {},
   "source": [
    "### Надо доделать"
   ]
  },
  {
   "cell_type": "markdown",
   "metadata": {},
   "source": [
    "##### SweFN lexical units"
   ]
  },
  {
   "cell_type": "code",
   "execution_count": 11,
   "metadata": {},
   "outputs": [],
   "source": [
    "import xml.etree.ElementTree as ET\n",
    "tree = ET.parse('./swefn-full/swefn-ex.xml')\n",
    "root = tree.getroot()\n",
    "tokens = root.findall('corpus/text/sentence/token')"
   ]
  },
  {
   "cell_type": "code",
   "execution_count": 14,
   "metadata": {},
   "outputs": [],
   "source": [
    "query = \"\"\"\n",
    "SELECT id, frame\n",
    "FROM swefn\n",
    "\"\"\"\n",
    "cur.execute(query)\n",
    "results = cur.fetchall()\n",
    "\n",
    "lus = []\n",
    "for i, token in enumerate(tokens):\n",
    "    token_dict = token.attrib\n",
    "    if token_dict['swefn'] == '|':\n",
    "        continue\n",
    "    frame = token_dict['swefn'].replace('|', '')\n",
    "    word = token_dict['lemma'].replace('|', '')\n",
    "    pos = token_dict['pos']\n",
    "    if frame not in res:\n",
    "        lus.append((i, word, pos, frame))\n",
    "    else:\n",
    "        lus.append((i, word, pos, res[frame]))\n",
    "cur.execute(\"\"\"\n",
    "CREATE TABLE swefn_lu (\n",
    "    id INT, \n",
    "    word TEXT,\n",
    "    pos TEXT,\n",
    "    frame_id INT, \n",
    "    PRIMARY KEY (id)\n",
    ")\n",
    "\"\"\")\n",
    "cur.executemany(\"INSERT INTO swefn_lu VALUES (?, ?, ?, ?)\", lus)\n",
    "con.commit()"
   ]
  },
  {
   "cell_type": "code",
   "execution_count": 22,
   "metadata": {},
   "outputs": [],
   "source": [
    "cur.executemany(\"INSERT INTO swefn_lu VALUES (?, ?, ?, ?)\", lus)\n",
    "con.commit()"
   ]
  },
  {
   "cell_type": "markdown",
   "metadata": {},
   "source": [
    "##### SweFN relations"
   ]
  },
  {
   "cell_type": "code",
   "execution_count": 6,
   "metadata": {},
   "outputs": [
    {
     "data": {
      "text/plain": [
       "<sqlite3.Cursor at 0x7ff63fc5f340>"
      ]
     },
     "execution_count": 6,
     "metadata": {},
     "output_type": "execute_result"
    }
   ],
   "source": [
    "cur.execute(\"\"\"\n",
    "CREATE TABLE SweFN_relations (\n",
    "    parent_id INT, \n",
    "    child_id INT, \n",
    "    relation_id TEXT\n",
    ")\n",
    "\"\"\")"
   ]
  },
  {
   "cell_type": "markdown",
   "metadata": {},
   "source": []
  },
  {
   "cell_type": "code",
   "execution_count": 10,
   "metadata": {},
   "outputs": [],
   "source": [
    "con.commit()"
   ]
  }
 ],
 "metadata": {
  "kernelspec": {
   "display_name": "Python 3",
   "language": "python",
   "name": "python3"
  },
  "language_info": {
   "codemirror_mode": {
    "name": "ipython",
    "version": 3
   },
   "file_extension": ".py",
   "mimetype": "text/x-python",
   "name": "python",
   "nbconvert_exporter": "python",
   "pygments_lexer": "ipython3",
   "version": "3.9.7"
  }
 },
 "nbformat": 4,
 "nbformat_minor": 2
}
