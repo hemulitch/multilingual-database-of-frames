{
 "cells": [
  {
   "cell_type": "markdown",
   "metadata": {},
   "source": [
    "### Импорты"
   ]
  },
  {
   "cell_type": "code",
   "execution_count": 1,
   "metadata": {},
   "outputs": [
    {
     "name": "stderr",
     "output_type": "stream",
     "text": [
      "[nltk_data] Downloading package framenet_v17 to\n",
      "[nltk_data]     /Users/annsmklv/nltk_data...\n",
      "[nltk_data]   Package framenet_v17 is already up-to-date!\n"
     ]
    }
   ],
   "source": [
    "import sqlite3\n",
    "import pandas as pd\n",
    "import nltk\n",
    "nltk.download('framenet_v17')\n",
    "from nltk.corpus import framenet as fn\n",
    "import re\n",
    "from string import punctuation"
   ]
  },
  {
   "cell_type": "markdown",
   "metadata": {},
   "source": [
    "### База данных"
   ]
  },
  {
   "cell_type": "code",
   "execution_count": 2,
   "metadata": {},
   "outputs": [],
   "source": [
    "con = sqlite3.connect('MultilingualFramenet.db')  \n",
    "cur = con.cursor()  "
   ]
  },
  {
   "cell_type": "markdown",
   "metadata": {},
   "source": [
    "### Berkeley FrameNet"
   ]
  },
  {
   "cell_type": "markdown",
   "metadata": {},
   "source": [
    "Данные для BFN будем брать из nltk\n",
    "\n",
    "#### 1. Фреймы"
   ]
  },
  {
   "cell_type": "code",
   "execution_count": 14,
   "metadata": {},
   "outputs": [],
   "source": [
    "data = []\n",
    "for frame in fn.frames():\n",
    "    data.append((int(frame.ID), frame.name, \" \".join([fe for fe in frame.FE]), frame.definition, f\"https://framenet.icsi.berkeley.edu/fnReports/data/frameIndex.xml?frame={frame.name}\"))"
   ]
  },
  {
   "cell_type": "code",
   "execution_count": 15,
   "metadata": {},
   "outputs": [
    {
     "data": {
      "text/html": [
       "<div>\n",
       "<style scoped>\n",
       "    .dataframe tbody tr th:only-of-type {\n",
       "        vertical-align: middle;\n",
       "    }\n",
       "\n",
       "    .dataframe tbody tr th {\n",
       "        vertical-align: top;\n",
       "    }\n",
       "\n",
       "    .dataframe thead th {\n",
       "        text-align: right;\n",
       "    }\n",
       "</style>\n",
       "<table border=\"1\" class=\"dataframe\">\n",
       "  <thead>\n",
       "    <tr style=\"text-align: right;\">\n",
       "      <th></th>\n",
       "      <th>id</th>\n",
       "      <th>frame</th>\n",
       "      <th>frame_elements</th>\n",
       "      <th>definition</th>\n",
       "      <th>link</th>\n",
       "    </tr>\n",
       "  </thead>\n",
       "  <tbody>\n",
       "    <tr>\n",
       "      <th>0</th>\n",
       "      <td>2031</td>\n",
       "      <td>Abandonment</td>\n",
       "      <td>Agent Theme Place Time Manner Duration Explana...</td>\n",
       "      <td>An Agent leaves behind a Theme effectively ren...</td>\n",
       "      <td>https://framenet.icsi.berkeley.edu/fnReports/d...</td>\n",
       "    </tr>\n",
       "    <tr>\n",
       "      <th>1</th>\n",
       "      <td>262</td>\n",
       "      <td>Abounding_with</td>\n",
       "      <td>Theme Location Degree Depictive Time</td>\n",
       "      <td>A Location is filled or covered with the Theme...</td>\n",
       "      <td>https://framenet.icsi.berkeley.edu/fnReports/d...</td>\n",
       "    </tr>\n",
       "    <tr>\n",
       "      <th>2</th>\n",
       "      <td>830</td>\n",
       "      <td>Absorb_heat</td>\n",
       "      <td>Entity Container Heat_source Place Medium Mann...</td>\n",
       "      <td>An Entity (generally food) is exposed to a Hea...</td>\n",
       "      <td>https://framenet.icsi.berkeley.edu/fnReports/d...</td>\n",
       "    </tr>\n",
       "  </tbody>\n",
       "</table>\n",
       "</div>"
      ],
      "text/plain": [
       "     id           frame                                     frame_elements  \\\n",
       "0  2031     Abandonment  Agent Theme Place Time Manner Duration Explana...   \n",
       "1   262  Abounding_with               Theme Location Degree Depictive Time   \n",
       "2   830     Absorb_heat  Entity Container Heat_source Place Medium Mann...   \n",
       "\n",
       "                                          definition  \\\n",
       "0  An Agent leaves behind a Theme effectively ren...   \n",
       "1  A Location is filled or covered with the Theme...   \n",
       "2  An Entity (generally food) is exposed to a Hea...   \n",
       "\n",
       "                                                link  \n",
       "0  https://framenet.icsi.berkeley.edu/fnReports/d...  \n",
       "1  https://framenet.icsi.berkeley.edu/fnReports/d...  \n",
       "2  https://framenet.icsi.berkeley.edu/fnReports/d...  "
      ]
     },
     "execution_count": 15,
     "metadata": {},
     "output_type": "execute_result"
    }
   ],
   "source": [
    "example = data[:3]\n",
    "bfn_frames = pd.DataFrame({'id': [x[0] for x in example],\n",
    "                           'frame':[x[1] for x in example],\n",
    "                           'frame_elements':[x[2] for x in example],\n",
    "                           'definition':[x[3] for x in example],\n",
    "                           'link': [x[4] for x in example]}, index=None)\n",
    "bfn_frames\n"
   ]
  },
  {
   "cell_type": "markdown",
   "metadata": {},
   "source": [
    "Загружаем в таблицу"
   ]
  },
  {
   "cell_type": "code",
   "execution_count": 16,
   "metadata": {},
   "outputs": [],
   "source": [
    "cur.execute(\"\"\"\n",
    "CREATE TABLE bfn (\n",
    "    id INT, \n",
    "    frame TEXT, \n",
    "    frame_elements TEXT,\n",
    "    definition TEXT,\n",
    "    link TEXT,\n",
    "    PRIMARY KEY (id)\n",
    ")\n",
    "\"\"\")\n",
    "cur.executemany(\"INSERT INTO bfn VALUES (?, ?, ?, ?, ?)\", data)\n",
    "con.commit()"
   ]
  },
  {
   "cell_type": "markdown",
   "metadata": {},
   "source": [
    "#### 2. Лексические единицы"
   ]
  },
  {
   "cell_type": "code",
   "execution_count": 148,
   "metadata": {},
   "outputs": [],
   "source": [
    "lexical_units = []\n",
    "for frame in fn.frames():\n",
    "    frame_id = frame.ID\n",
    "    lang = 'en'\n",
    "    lus = frame.lexUnit.items()\n",
    "    for k, v in lus:\n",
    "        id = v.ID\n",
    "        word, pos = k.split('.')\n",
    "        lexical_units.append((id, word, pos, lang, frame_id))"
   ]
  },
  {
   "cell_type": "code",
   "execution_count": 150,
   "metadata": {},
   "outputs": [
    {
     "data": {
      "text/html": [
       "<div>\n",
       "<style scoped>\n",
       "    .dataframe tbody tr th:only-of-type {\n",
       "        vertical-align: middle;\n",
       "    }\n",
       "\n",
       "    .dataframe tbody tr th {\n",
       "        vertical-align: top;\n",
       "    }\n",
       "\n",
       "    .dataframe thead th {\n",
       "        text-align: right;\n",
       "    }\n",
       "</style>\n",
       "<table border=\"1\" class=\"dataframe\">\n",
       "  <thead>\n",
       "    <tr style=\"text-align: right;\">\n",
       "      <th></th>\n",
       "      <th>id</th>\n",
       "      <th>word</th>\n",
       "      <th>pos</th>\n",
       "      <th>lang</th>\n",
       "      <th>frame_id</th>\n",
       "    </tr>\n",
       "  </thead>\n",
       "  <tbody>\n",
       "    <tr>\n",
       "      <th>0</th>\n",
       "      <td>14839</td>\n",
       "      <td>abandon</td>\n",
       "      <td>v</td>\n",
       "      <td>en</td>\n",
       "      <td>2031</td>\n",
       "    </tr>\n",
       "    <tr>\n",
       "      <th>1</th>\n",
       "      <td>14841</td>\n",
       "      <td>leave</td>\n",
       "      <td>v</td>\n",
       "      <td>en</td>\n",
       "      <td>2031</td>\n",
       "    </tr>\n",
       "    <tr>\n",
       "      <th>2</th>\n",
       "      <td>14842</td>\n",
       "      <td>abandonment</td>\n",
       "      <td>n</td>\n",
       "      <td>en</td>\n",
       "      <td>2031</td>\n",
       "    </tr>\n",
       "    <tr>\n",
       "      <th>3</th>\n",
       "      <td>14843</td>\n",
       "      <td>abandoned</td>\n",
       "      <td>a</td>\n",
       "      <td>en</td>\n",
       "      <td>2031</td>\n",
       "    </tr>\n",
       "    <tr>\n",
       "      <th>4</th>\n",
       "      <td>15317</td>\n",
       "      <td>forget</td>\n",
       "      <td>v</td>\n",
       "      <td>en</td>\n",
       "      <td>2031</td>\n",
       "    </tr>\n",
       "    <tr>\n",
       "      <th>...</th>\n",
       "      <td>...</td>\n",
       "      <td>...</td>\n",
       "      <td>...</td>\n",
       "      <td>...</td>\n",
       "      <td>...</td>\n",
       "    </tr>\n",
       "    <tr>\n",
       "      <th>13567</th>\n",
       "      <td>14003</td>\n",
       "      <td>plug away</td>\n",
       "      <td>v</td>\n",
       "      <td>en</td>\n",
       "      <td>1892</td>\n",
       "    </tr>\n",
       "    <tr>\n",
       "      <th>13568</th>\n",
       "      <td>14005</td>\n",
       "      <td>bang away</td>\n",
       "      <td>v</td>\n",
       "      <td>en</td>\n",
       "      <td>1892</td>\n",
       "    </tr>\n",
       "    <tr>\n",
       "      <th>13569</th>\n",
       "      <td>16474</td>\n",
       "      <td>man</td>\n",
       "      <td>v</td>\n",
       "      <td>en</td>\n",
       "      <td>2603</td>\n",
       "    </tr>\n",
       "    <tr>\n",
       "      <th>13570</th>\n",
       "      <td>16475</td>\n",
       "      <td>staff</td>\n",
       "      <td>v</td>\n",
       "      <td>en</td>\n",
       "      <td>2603</td>\n",
       "    </tr>\n",
       "    <tr>\n",
       "      <th>13571</th>\n",
       "      <td>16476</td>\n",
       "      <td>work</td>\n",
       "      <td>v</td>\n",
       "      <td>en</td>\n",
       "      <td>2603</td>\n",
       "    </tr>\n",
       "  </tbody>\n",
       "</table>\n",
       "<p>13572 rows × 5 columns</p>\n",
       "</div>"
      ],
      "text/plain": [
       "          id         word pos lang  frame_id\n",
       "0      14839      abandon   v   en      2031\n",
       "1      14841        leave   v   en      2031\n",
       "2      14842  abandonment   n   en      2031\n",
       "3      14843    abandoned   a   en      2031\n",
       "4      15317       forget   v   en      2031\n",
       "...      ...          ...  ..  ...       ...\n",
       "13567  14003    plug away   v   en      1892\n",
       "13568  14005    bang away   v   en      1892\n",
       "13569  16474          man   v   en      2603\n",
       "13570  16475        staff   v   en      2603\n",
       "13571  16476         work   v   en      2603\n",
       "\n",
       "[13572 rows x 5 columns]"
      ]
     },
     "execution_count": 150,
     "metadata": {},
     "output_type": "execute_result"
    }
   ],
   "source": [
    "example_lus = pd.DataFrame({'id': [x[0] for x in lexical_units],\n",
    "                           'word':[x[1] for x in lexical_units],\n",
    "                           'pos':[x[2] for x in lexical_units],\n",
    "                           'lang': [x[3] for x in lexical_units],\n",
    "                           'frame_id':[x[4] for x in lexical_units]}, index=None)\n",
    "example_lus\n"
   ]
  },
  {
   "cell_type": "markdown",
   "metadata": {},
   "source": [
    "Создаем таблицу и добавляем туда наши данные"
   ]
  },
  {
   "cell_type": "code",
   "execution_count": 152,
   "metadata": {},
   "outputs": [],
   "source": [
    "cur.execute(\"\"\"\n",
    "CREATE TABLE bfn_lu (\n",
    "    id INT, \n",
    "    word TEXT,\n",
    "    pos TEXT,\n",
    "    lang TEXT,\n",
    "    frame_id INT, \n",
    "    PRIMARY KEY (id)\n",
    ")\n",
    "\"\"\")\n",
    "cur.executemany(\"INSERT INTO bfn_lu VALUES (?, ?, ?, ?, ?)\", lexical_units)\n",
    "con.commit()"
   ]
  },
  {
   "cell_type": "markdown",
   "metadata": {},
   "source": [
    "#### 3. Типы отношений и отношения между фреймами"
   ]
  },
  {
   "cell_type": "code",
   "execution_count": 130,
   "metadata": {},
   "outputs": [],
   "source": [
    "types = []\n",
    "for type in list(fn.frame_relation_types()):\n",
    "    types.append((int(type.ID), type.name, type.superFrameName, type.subFrameName, ''))"
   ]
  },
  {
   "cell_type": "code",
   "execution_count": 131,
   "metadata": {},
   "outputs": [
    {
     "data": {
      "text/html": [
       "<div>\n",
       "<style scoped>\n",
       "    .dataframe tbody tr th:only-of-type {\n",
       "        vertical-align: middle;\n",
       "    }\n",
       "\n",
       "    .dataframe tbody tr th {\n",
       "        vertical-align: top;\n",
       "    }\n",
       "\n",
       "    .dataframe thead th {\n",
       "        text-align: right;\n",
       "    }\n",
       "</style>\n",
       "<table border=\"1\" class=\"dataframe\">\n",
       "  <thead>\n",
       "    <tr style=\"text-align: right;\">\n",
       "      <th></th>\n",
       "      <th>id</th>\n",
       "      <th>name</th>\n",
       "      <th>superframe</th>\n",
       "      <th>subframe</th>\n",
       "    </tr>\n",
       "  </thead>\n",
       "  <tbody>\n",
       "    <tr>\n",
       "      <th>0</th>\n",
       "      <td>10</td>\n",
       "      <td>Causative_of</td>\n",
       "      <td>Causative</td>\n",
       "      <td>Inchoative/state</td>\n",
       "    </tr>\n",
       "    <tr>\n",
       "      <th>1</th>\n",
       "      <td>9</td>\n",
       "      <td>Inchoative_of</td>\n",
       "      <td>Inchoative</td>\n",
       "      <td>Stative</td>\n",
       "    </tr>\n",
       "    <tr>\n",
       "      <th>2</th>\n",
       "      <td>1</td>\n",
       "      <td>Inheritance</td>\n",
       "      <td>Parent</td>\n",
       "      <td>Child</td>\n",
       "    </tr>\n",
       "  </tbody>\n",
       "</table>\n",
       "</div>"
      ],
      "text/plain": [
       "   id           name  superframe          subframe\n",
       "0  10   Causative_of   Causative  Inchoative/state\n",
       "1   9  Inchoative_of  Inchoative           Stative\n",
       "2   1    Inheritance      Parent             Child"
      ]
     },
     "execution_count": 131,
     "metadata": {},
     "output_type": "execute_result"
    }
   ],
   "source": [
    "example = types[:3]\n",
    "example_types = pd.DataFrame({'id': [x[0] for x in example],\n",
    "                           'name':[x[1] for x in example],\n",
    "                           'superframe':[x[2] for x in example],\n",
    "                           'subframe':[x[3] for x in example]}, index=None)\n",
    "example_types"
   ]
  },
  {
   "cell_type": "code",
   "execution_count": null,
   "metadata": {},
   "outputs": [],
   "source": [
    "cur.execute(\"\"\"\n",
    "CREATE TABLE relation_types (\n",
    "    id INT, \n",
    "    type TEXT,\n",
    "    superframe TEXT,\n",
    "    subframe TEXT,\n",
    "    definition TEXT, \n",
    "    PRIMARY KEY (id)\n",
    ")\n",
    "\"\"\")\n",
    "cur.executemany(\"INSERT INTO relation_types VALUES (?, ?, ?, ?, ?)\", types)\n",
    "con.commit()"
   ]
  },
  {
   "cell_type": "markdown",
   "metadata": {},
   "source": [
    "Так как соединяем по id, создадим словарь, в котором ключами будут названия фреймов, а значениями - их id"
   ]
  },
  {
   "cell_type": "code",
   "execution_count": 134,
   "metadata": {},
   "outputs": [],
   "source": [
    "ids = {}\n",
    "for t in types:\n",
    "    ids[t[1]] = t[0]"
   ]
  },
  {
   "cell_type": "code",
   "execution_count": 135,
   "metadata": {},
   "outputs": [],
   "source": [
    "bfn_relations = []\n",
    "for rel in fn.frame_relations():\n",
    "    bfn_relations.append((rel.superFrame.ID, rel.subFrame.ID, ids[rel.type.name]))"
   ]
  },
  {
   "cell_type": "code",
   "execution_count": 136,
   "metadata": {},
   "outputs": [
    {
     "data": {
      "text/html": [
       "<div>\n",
       "<style scoped>\n",
       "    .dataframe tbody tr th:only-of-type {\n",
       "        vertical-align: middle;\n",
       "    }\n",
       "\n",
       "    .dataframe tbody tr th {\n",
       "        vertical-align: top;\n",
       "    }\n",
       "\n",
       "    .dataframe thead th {\n",
       "        text-align: right;\n",
       "    }\n",
       "</style>\n",
       "<table border=\"1\" class=\"dataframe\">\n",
       "  <thead>\n",
       "    <tr style=\"text-align: right;\">\n",
       "      <th></th>\n",
       "      <th>parent_id</th>\n",
       "      <th>child_id</th>\n",
       "      <th>relation_id</th>\n",
       "    </tr>\n",
       "  </thead>\n",
       "  <tbody>\n",
       "    <tr>\n",
       "      <th>0</th>\n",
       "      <td>262</td>\n",
       "      <td>1904</td>\n",
       "      <td>1</td>\n",
       "    </tr>\n",
       "    <tr>\n",
       "      <th>1</th>\n",
       "      <td>1602</td>\n",
       "      <td>1603</td>\n",
       "      <td>1</td>\n",
       "    </tr>\n",
       "    <tr>\n",
       "      <th>2</th>\n",
       "      <td>124</td>\n",
       "      <td>236</td>\n",
       "      <td>1</td>\n",
       "    </tr>\n",
       "  </tbody>\n",
       "</table>\n",
       "</div>"
      ],
      "text/plain": [
       "   parent_id  child_id  relation_id\n",
       "0        262      1904            1\n",
       "1       1602      1603            1\n",
       "2        124       236            1"
      ]
     },
     "execution_count": 136,
     "metadata": {},
     "output_type": "execute_result"
    }
   ],
   "source": [
    "example = bfn_relations[:3]\n",
    "example_rel = pd.DataFrame({'parent_id': [x[0] for x in example],\n",
    "                           'child_id':[x[1] for x in example],\n",
    "                           'relation_id':[x[2] for x in example]}, index=None)\n",
    "example_rel"
   ]
  },
  {
   "cell_type": "code",
   "execution_count": 137,
   "metadata": {},
   "outputs": [],
   "source": [
    "cur.execute(\"\"\"\n",
    "CREATE TABLE bfn_frame_relations (\n",
    "    parent_id INT, \n",
    "    child_id INT, \n",
    "    relation_id TEXT\n",
    ")\n",
    "\"\"\")\n",
    "cur.executemany(\"INSERT INTO bfn_frame_relations VALUES (?, ?, ?)\", bfn_relations)\n",
    "con.commit()"
   ]
  },
  {
   "cell_type": "markdown",
   "metadata": {},
   "source": [
    "### Ресурсы\n",
    "\n",
    "Информация была собрана нами вручную."
   ]
  },
  {
   "cell_type": "code",
   "execution_count": 17,
   "metadata": {},
   "outputs": [],
   "source": [
    "meta = [\n",
    "    ('DiCoEnviro', 'Экология', 'Французский, английский, португальский, китайский',\t'https://olst.ling.umontreal.ca/dicoenviro/framed/index.php', '-', '', 203, None, ''),\n",
    "    ('DiCoInfo', 'Информация, интернет', 'Французский, английский, арабский', 'https://olst.ling.umontreal.ca/dicoinfo/framed/', '-', '', None, None, 'https://olst.ling.umontreal.ca/dicoinfo/framed/'),\n",
    "    ('SweFN', 'Без определённой тематики', 'Шведский', 'https://spraakbanken.gu.se/karp/#?mode=DEFAULT&resources=swefn&lang=eng&advanced=false', 'https://spraakbanken.gu.se/en/resources?s=SweFN&language=All', '', 1195, 39210, 'https://spraakbanken.gu.se/en/resources/swefn'),\n",
    "    ('FrameNet Brasil', 'Без определённой тематики', 'Бразильский португальский, английский (вероятно, ещё)', 'https://webtool.framenetbr.ufjf.br/index.php/webtool/report/frame/main', '-', '', None, None, ''),\n",
    "    ('German FrameNet', 'Без определённой тематики', 'Немецкий', 'https://framenet-constructicon.hhu.de/framenet/', 'https://www.coli.uni-saarland.de/projects/salsa/corpus/', '', 1285, 13905, 'https://framenet-constructicon.hhu.de/project/publications'),\n",
    "    ('Spanish FrameNet', 'Без определённой тематики', 'Испанский', 'http://gemini.uab.es/SFN', '-', '', None, None, ''),\n",
    "    ('GFOL', 'Без определённой тематики', 'Немецкий', 'https://coerll.utexas.edu/frames/frame-index', '-', '', 29, None, '')\n",
    "]\t\t\t\t\t\t\t\t"
   ]
  },
  {
   "cell_type": "code",
   "execution_count": 18,
   "metadata": {},
   "outputs": [
    {
     "data": {
      "text/html": [
       "<div>\n",
       "<style scoped>\n",
       "    .dataframe tbody tr th:only-of-type {\n",
       "        vertical-align: middle;\n",
       "    }\n",
       "\n",
       "    .dataframe tbody tr th {\n",
       "        vertical-align: top;\n",
       "    }\n",
       "\n",
       "    .dataframe thead th {\n",
       "        text-align: right;\n",
       "    }\n",
       "</style>\n",
       "<table border=\"1\" class=\"dataframe\">\n",
       "  <thead>\n",
       "    <tr style=\"text-align: right;\">\n",
       "      <th></th>\n",
       "      <th>resource</th>\n",
       "      <th>theme</th>\n",
       "      <th>language</th>\n",
       "      <th>online</th>\n",
       "      <th>offline</th>\n",
       "      <th>library</th>\n",
       "      <th>size</th>\n",
       "      <th>number_of_LUs</th>\n",
       "      <th>publications</th>\n",
       "    </tr>\n",
       "  </thead>\n",
       "  <tbody>\n",
       "    <tr>\n",
       "      <th>0</th>\n",
       "      <td>DiCoEnviro</td>\n",
       "      <td>Экология</td>\n",
       "      <td>Французский, английский, португальский, китайский</td>\n",
       "      <td>https://olst.ling.umontreal.ca/dicoenviro/fram...</td>\n",
       "      <td>-</td>\n",
       "      <td></td>\n",
       "      <td>203.0</td>\n",
       "      <td>NaN</td>\n",
       "      <td></td>\n",
       "    </tr>\n",
       "    <tr>\n",
       "      <th>1</th>\n",
       "      <td>DiCoInfo</td>\n",
       "      <td>Информация, интернет</td>\n",
       "      <td>Французский, английский, арабский</td>\n",
       "      <td>https://olst.ling.umontreal.ca/dicoinfo/framed/</td>\n",
       "      <td>-</td>\n",
       "      <td></td>\n",
       "      <td>NaN</td>\n",
       "      <td>NaN</td>\n",
       "      <td>https://olst.ling.umontreal.ca/dicoinfo/framed/</td>\n",
       "    </tr>\n",
       "    <tr>\n",
       "      <th>2</th>\n",
       "      <td>SweFN</td>\n",
       "      <td>Без определённой тематики</td>\n",
       "      <td>Шведский</td>\n",
       "      <td>https://spraakbanken.gu.se/karp/#?mode=DEFAULT...</td>\n",
       "      <td>https://spraakbanken.gu.se/en/resources?s=SweF...</td>\n",
       "      <td></td>\n",
       "      <td>1195.0</td>\n",
       "      <td>39210.0</td>\n",
       "      <td>https://spraakbanken.gu.se/en/resources/swefn</td>\n",
       "    </tr>\n",
       "    <tr>\n",
       "      <th>3</th>\n",
       "      <td>FrameNet Brasil</td>\n",
       "      <td>Без определённой тематики</td>\n",
       "      <td>Бразильский португальский, английский (вероятн...</td>\n",
       "      <td>https://webtool.framenetbr.ufjf.br/index.php/w...</td>\n",
       "      <td>-</td>\n",
       "      <td></td>\n",
       "      <td>NaN</td>\n",
       "      <td>NaN</td>\n",
       "      <td></td>\n",
       "    </tr>\n",
       "    <tr>\n",
       "      <th>4</th>\n",
       "      <td>German FrameNet</td>\n",
       "      <td>Без определённой тематики</td>\n",
       "      <td>Немецкий</td>\n",
       "      <td>https://framenet-constructicon.hhu.de/framenet/</td>\n",
       "      <td>https://www.coli.uni-saarland.de/projects/sals...</td>\n",
       "      <td></td>\n",
       "      <td>1285.0</td>\n",
       "      <td>13905.0</td>\n",
       "      <td>https://framenet-constructicon.hhu.de/project/...</td>\n",
       "    </tr>\n",
       "  </tbody>\n",
       "</table>\n",
       "</div>"
      ],
      "text/plain": [
       "          resource                      theme  \\\n",
       "0       DiCoEnviro                   Экология   \n",
       "1         DiCoInfo       Информация, интернет   \n",
       "2            SweFN  Без определённой тематики   \n",
       "3  FrameNet Brasil  Без определённой тематики   \n",
       "4  German FrameNet  Без определённой тематики   \n",
       "\n",
       "                                            language  \\\n",
       "0  Французский, английский, португальский, китайский   \n",
       "1                  Французский, английский, арабский   \n",
       "2                                           Шведский   \n",
       "3  Бразильский португальский, английский (вероятн...   \n",
       "4                                           Немецкий   \n",
       "\n",
       "                                              online  \\\n",
       "0  https://olst.ling.umontreal.ca/dicoenviro/fram...   \n",
       "1    https://olst.ling.umontreal.ca/dicoinfo/framed/   \n",
       "2  https://spraakbanken.gu.se/karp/#?mode=DEFAULT...   \n",
       "3  https://webtool.framenetbr.ufjf.br/index.php/w...   \n",
       "4    https://framenet-constructicon.hhu.de/framenet/   \n",
       "\n",
       "                                             offline library    size  \\\n",
       "0                                                  -           203.0   \n",
       "1                                                  -             NaN   \n",
       "2  https://spraakbanken.gu.se/en/resources?s=SweF...          1195.0   \n",
       "3                                                  -             NaN   \n",
       "4  https://www.coli.uni-saarland.de/projects/sals...          1285.0   \n",
       "\n",
       "   number_of_LUs                                       publications  \n",
       "0            NaN                                                     \n",
       "1            NaN    https://olst.ling.umontreal.ca/dicoinfo/framed/  \n",
       "2        39210.0      https://spraakbanken.gu.se/en/resources/swefn  \n",
       "3            NaN                                                     \n",
       "4        13905.0  https://framenet-constructicon.hhu.de/project/...  "
      ]
     },
     "execution_count": 18,
     "metadata": {},
     "output_type": "execute_result"
    }
   ],
   "source": [
    "example = meta[:5]\n",
    "example_meta = pd.DataFrame({'resource': [x[0] for x in example],\n",
    "                           'theme':[x[1] for x in example],\n",
    "                           'language':[x[2] for x in example],\n",
    "                           'online':[x[3] for x in example],\n",
    "                           'offline':[x[4] for x in example],\n",
    "                           'library':[x[5] for x in example],\n",
    "                           'size':[x[6] for x in example],\n",
    "                           'number_of_LUs':[x[7] for x in example],\n",
    "                           'publications':[x[8] for x in example]\n",
    "                           }, index=None)\n",
    "example_meta"
   ]
  },
  {
   "cell_type": "code",
   "execution_count": 19,
   "metadata": {},
   "outputs": [],
   "source": [
    "cur.execute(\"\"\"\n",
    "CREATE TABLE resources (\n",
    "    resource TEXT,\n",
    "    theme TEXT,\n",
    "    language TEXT, \n",
    "    online_availability TEXT,\n",
    "    offline_availability TEXT,\n",
    "    library TEXT,\n",
    "    size INT,\n",
    "    number_of_LUs INT,\n",
    "    publication TEXT\n",
    ")\n",
    "\"\"\")\n",
    "cur.executemany(\"INSERT INTO resources VALUES (?, ?, ?, ?, ?, ?, ?, ?, ?)\", meta)\n",
    "con.commit()"
   ]
  },
  {
   "cell_type": "markdown",
   "metadata": {},
   "source": [
    "### SweFN\n"
   ]
  },
  {
   "cell_type": "markdown",
   "metadata": {},
   "source": [
    "Данные из SweFN будем доставать парсингом xml-файла\n",
    "\n",
    "#### 1. Фреймы"
   ]
  },
  {
   "cell_type": "code",
   "execution_count": 153,
   "metadata": {},
   "outputs": [],
   "source": [
    "import xml.etree.ElementTree as ET\n",
    "tree = ET.parse('./swefn-full/swefn.xml')\n",
    "root = tree.getroot()\n",
    "lexical_entries = root.findall('Lexicon/LexicalEntry/Sense')"
   ]
  },
  {
   "cell_type": "code",
   "execution_count": 21,
   "metadata": {},
   "outputs": [],
   "source": [
    "data = []\n",
    "for i, le in enumerate(lexical_entries):\n",
    "    id = i\n",
    "    frame = le.attrib['id'].split('--')[1]\n",
    "    frame_elements = []\n",
    "    definition = ''\n",
    "    attrs = [x.attrib for x in le.findall('feat')]\n",
    "    for attr in attrs:\n",
    "        if attr['att'] == 'coreElement' or attr['att'] == 'peripheralElement':\n",
    "            frame_elements.append(attr['val'])\n",
    "        elif attr['att'] == 'definition':\n",
    "            definition = re.sub('<.*?>', '', attr['val'])\n",
    "    data.append((i, frame, \" \".join(frame_elements), definition, ''))"
   ]
  },
  {
   "cell_type": "code",
   "execution_count": 23,
   "metadata": {},
   "outputs": [],
   "source": [
    "cur.execute(\"\"\"\n",
    "CREATE TABLE swefn (\n",
    "    id INT, \n",
    "    frame TEXT, \n",
    "    frame_elements TEXT,\n",
    "    definition TEXT,\n",
    "    link TEXT,\n",
    "    PRIMARY KEY (id)\n",
    ")\n",
    "\"\"\")\n",
    "cur.executemany(\"INSERT INTO swefn VALUES (?, ?, ?, ?, ?)\", data)\n",
    "con.commit()"
   ]
  },
  {
   "cell_type": "markdown",
   "metadata": {},
   "source": [
    "#### 2. Связи между фреймами в BFN и фреймами в SweFN"
   ]
  },
  {
   "cell_type": "code",
   "execution_count": 102,
   "metadata": {},
   "outputs": [],
   "source": [
    "import xml.etree.ElementTree as ET\n",
    "tree = ET.parse('./swefn-full/swefn.xml')\n",
    "root = tree.getroot()\n",
    "lexical_entries = root.findall('Lexicon/LexicalEntry/Sense')"
   ]
  },
  {
   "cell_type": "markdown",
   "metadata": {},
   "source": [
    "Большая часть фреймов в шведском фреймнете являются копией фреймов из BFN, поэтому мы вытаскиваем аттрибут BFNID. Для фреймов, для которых нет такого аттрибута, мы будем проставлять связи вручную"
   ]
  },
  {
   "cell_type": "code",
   "execution_count": 103,
   "metadata": {},
   "outputs": [],
   "source": [
    "collocations = []\n",
    "for i, le in enumerate(lexical_entries):\n",
    "    frame = le.attrib['id'].split('--')[1]\n",
    "    feats = le.findall('feat')\n",
    "    if_colloc = False\n",
    "    for f in feats:\n",
    "        if f.attrib['att'] == \"BFNID\":\n",
    "            collocations.append((frame, f.attrib['val']))\n",
    "            if_colloc = True\n",
    "    if not if_colloc:\n",
    "        collocations.append((frame, None))"
   ]
  },
  {
   "cell_type": "code",
   "execution_count": 104,
   "metadata": {},
   "outputs": [],
   "source": [
    "query = \"\"\"\n",
    "SELECT id, frame\n",
    "FROM bfn\n",
    "\"\"\"\n",
    "cur.execute(query)\n",
    "results = cur.fetchall()"
   ]
  },
  {
   "cell_type": "code",
   "execution_count": 109,
   "metadata": {},
   "outputs": [
    {
     "data": {
      "text/plain": [
       "('Event_in_history', 'Event_in_history')"
      ]
     },
     "execution_count": 109,
     "metadata": {},
     "output_type": "execute_result"
    }
   ],
   "source": [
    "collocations[0]"
   ]
  },
  {
   "cell_type": "code",
   "execution_count": 111,
   "metadata": {},
   "outputs": [],
   "source": [
    "bfn = {}\n",
    "for r in results:\n",
    "    bfn[r[1]] = r[0]\n",
    "    \n",
    "bfn_swefn = []\n",
    "for i, frame in enumerate(collocations):\n",
    "    if frame[1] in bfn:\n",
    "        bfn_swefn.append((frame[1], i, frame[0], \"ExactMatch\"))\n",
    "    else:\n",
    "        bfn_swefn.append((None, i, frame[0], \"??\"))"
   ]
  },
  {
   "cell_type": "code",
   "execution_count": 20,
   "metadata": {},
   "outputs": [],
   "source": [
    "cur.execute(\"\"\"\n",
    "CREATE TABLE bfn_swefn_match (\n",
    "    bfn_frame_id INT, \n",
    "    swefn_frame_id INT, \n",
    "    match TEXT\n",
    ")\n",
    "\"\"\")\n",
    "cur.executemany(\"INSERT INTO bfn_swefn_match VALUES (?, ?, ?)\", bfn_swefn)\n",
    "con.commit()"
   ]
  },
  {
   "cell_type": "markdown",
   "metadata": {},
   "source": [
    "#### 3. SweFN lexical units"
   ]
  },
  {
   "cell_type": "code",
   "execution_count": 320,
   "metadata": {},
   "outputs": [],
   "source": [
    "import xml.etree.ElementTree as ET\n",
    "tree = ET.parse('./swefn-full/swefn-ex.xml')\n",
    "root = tree.getroot()\n",
    "tokens = root.findall('corpus/text/sentence/token')"
   ]
  },
  {
   "cell_type": "code",
   "execution_count": 322,
   "metadata": {},
   "outputs": [],
   "source": [
    "query = \"\"\"\n",
    "SELECT id, frame\n",
    "FROM swefn\n",
    "\"\"\"\n",
    "cur.execute(query)\n",
    "results = cur.fetchall()"
   ]
  },
  {
   "cell_type": "code",
   "execution_count": 167,
   "metadata": {},
   "outputs": [],
   "source": [
    "results_dict = {}\n",
    "for l in results:\n",
    "    results_dict[l[1]] = l[0]"
   ]
  },
  {
   "cell_type": "code",
   "execution_count": 336,
   "metadata": {},
   "outputs": [],
   "source": [
    "pos_list = {'AB': 'adv', \n",
    "       'JJ': 'a', \n",
    "       'NN': 'n', \n",
    "       'VB': 'v'\n",
    "}\n",
    "\n",
    "lang = 'sv'\n",
    "lus = []\n",
    "used_lus = {}\n",
    "id = 1\n",
    "for token in tokens:\n",
    "    token_dict = token.attrib\n",
    "    if token_dict['swefn'] == '|':\n",
    "        continue\n",
    "    frame = token_dict['swefn'].replace('|', '')\n",
    "    word = token_dict['lemma'].replace('|', '')\n",
    "    pos = token_dict['pos']\n",
    "\n",
    "    if word in used_lus:\n",
    "        stop = False\n",
    "        for info in used_lus[word]:\n",
    "            if info[0] == frame:\n",
    "                if info[1] == pos:\n",
    "                    stop = True\n",
    "        if stop:\n",
    "            continue\n",
    "        else:\n",
    "            used_lus[word].append((frame, pos))\n",
    "            if frame in results_dict:\n",
    "                lus.append((id, word, pos_list[pos], lang, results_dict[frame]))\n",
    "                id += 1 \n",
    "    else:\n",
    "        used_lus[word] = [(frame, pos)]\n",
    "        if frame in results_dict:\n",
    "                lus.append((id, word, pos_list[pos], lang, results_dict[frame]))\n",
    "                id += 1 "
   ]
  },
  {
   "cell_type": "code",
   "execution_count": 338,
   "metadata": {},
   "outputs": [],
   "source": [
    "cur.execute(\"\"\"\n",
    "CREATE TABLE swefn_lu (\n",
    "    id INT, \n",
    "    word TEXT,\n",
    "    pos TEXT,\n",
    "    lang TEXT,\n",
    "    frame_id INT, \n",
    "    PRIMARY KEY (id)\n",
    ")\n",
    "\"\"\")\n",
    "cur.executemany(\"INSERT INTO swefn_lu VALUES (?, ?, ?, ?, ?)\", lus)\n",
    "con.commit()"
   ]
  },
  {
   "cell_type": "markdown",
   "metadata": {},
   "source": [
    "### DiCoEnviro"
   ]
  },
  {
   "cell_type": "code",
   "execution_count": 181,
   "metadata": {},
   "outputs": [],
   "source": [
    "data = pd.read_csv('./data/dicoenviro.csv').to_numpy()"
   ]
  },
  {
   "cell_type": "markdown",
   "metadata": {},
   "source": [
    "#### 1. Фреймы"
   ]
  },
  {
   "cell_type": "code",
   "execution_count": 34,
   "metadata": {},
   "outputs": [],
   "source": [
    "frames = []\n",
    "for i, frame in enumerate(data):\n",
    "    frames.append((i, frame[1], frame[7], frame[9], frame[8]))"
   ]
  },
  {
   "cell_type": "code",
   "execution_count": 35,
   "metadata": {},
   "outputs": [
    {
     "data": {
      "text/html": [
       "<div>\n",
       "<style scoped>\n",
       "    .dataframe tbody tr th:only-of-type {\n",
       "        vertical-align: middle;\n",
       "    }\n",
       "\n",
       "    .dataframe tbody tr th {\n",
       "        vertical-align: top;\n",
       "    }\n",
       "\n",
       "    .dataframe thead th {\n",
       "        text-align: right;\n",
       "    }\n",
       "</style>\n",
       "<table border=\"1\" class=\"dataframe\">\n",
       "  <thead>\n",
       "    <tr style=\"text-align: right;\">\n",
       "      <th></th>\n",
       "      <th>id</th>\n",
       "      <th>frame</th>\n",
       "      <th>frame_elements</th>\n",
       "      <th>definition</th>\n",
       "      <th>link</th>\n",
       "    </tr>\n",
       "  </thead>\n",
       "  <tbody>\n",
       "    <tr>\n",
       "      <th>0</th>\n",
       "      <td>0</td>\n",
       "      <td>Abundance</td>\n",
       "      <td>Theme Location</td>\n",
       "      <td>The Theme is present in a Location in a specif...</td>\n",
       "      <td>https://olst.ling.umontreal.ca/dicoenviro/fram...</td>\n",
       "    </tr>\n",
       "    <tr>\n",
       "      <th>1</th>\n",
       "      <td>1</td>\n",
       "      <td>Accumulating</td>\n",
       "      <td>Patient Location</td>\n",
       "      <td>A Patient becomes increasingly present in a Lo...</td>\n",
       "      <td>https://olst.ling.umontreal.ca/dicoenviro/fram...</td>\n",
       "    </tr>\n",
       "    <tr>\n",
       "      <th>2</th>\n",
       "      <td>2</td>\n",
       "      <td>Adapting</td>\n",
       "      <td>Patient Cause</td>\n",
       "      <td>A Patient evolves in order to deal with a Cause.</td>\n",
       "      <td>https://olst.ling.umontreal.ca/dicoenviro/fram...</td>\n",
       "    </tr>\n",
       "  </tbody>\n",
       "</table>\n",
       "</div>"
      ],
      "text/plain": [
       "   id         frame    frame_elements  \\\n",
       "0   0     Abundance    Theme Location   \n",
       "1   1  Accumulating  Patient Location   \n",
       "2   2      Adapting     Patient Cause   \n",
       "\n",
       "                                          definition  \\\n",
       "0  The Theme is present in a Location in a specif...   \n",
       "1  A Patient becomes increasingly present in a Lo...   \n",
       "2   A Patient evolves in order to deal with a Cause.   \n",
       "\n",
       "                                                link  \n",
       "0  https://olst.ling.umontreal.ca/dicoenviro/fram...  \n",
       "1  https://olst.ling.umontreal.ca/dicoenviro/fram...  \n",
       "2  https://olst.ling.umontreal.ca/dicoenviro/fram...  "
      ]
     },
     "execution_count": 35,
     "metadata": {},
     "output_type": "execute_result"
    }
   ],
   "source": [
    "example = frames[:3]\n",
    "dicoenviro_frames = pd.DataFrame({'id': [x[0] for x in example],\n",
    "                           'frame':[x[1] for x in example],\n",
    "                           'frame_elements':[x[2] for x in example],\n",
    "                           'definition':[x[3] for x in example],\n",
    "                           'link': [x[4] for x in example]}, index=None)\n",
    "dicoenviro_frames"
   ]
  },
  {
   "cell_type": "code",
   "execution_count": 36,
   "metadata": {},
   "outputs": [],
   "source": [
    "cur.execute(\"\"\"\n",
    "CREATE TABLE dicoenviro (\n",
    "    id INT, \n",
    "    frame TEXT, \n",
    "    frame_elements TEXT,\n",
    "    definition TEXT,\n",
    "    link TEXT,\n",
    "    PRIMARY KEY (id)\n",
    ")\n",
    "\"\"\")\n",
    "cur.executemany(\"INSERT INTO dicoenviro VALUES (?, ?, ?, ?, ?)\", frames)\n",
    "con.commit()"
   ]
  },
  {
   "cell_type": "markdown",
   "metadata": {},
   "source": [
    "#### 2. Лексические единицы"
   ]
  },
  {
   "cell_type": "code",
   "execution_count": 222,
   "metadata": {},
   "outputs": [],
   "source": [
    "id = 0\n",
    "lexical_units = []\n",
    "for i, frame in enumerate(data):\n",
    "    englishlus = frame[2]\n",
    "    frenchlus =\tframe[3]\n",
    "    portugueselus =\tframe[4]\n",
    "    chineselus\t= frame[5]\n",
    "    spanishlus =  frame[6]\n",
    "    pos = ''\n",
    "    \n",
    "    if englishlus and isinstance(englishlus, str): \n",
    "        lang = 'en'\n",
    "        lus = englishlus.split('\\n')\n",
    "        for lu in lus:\n",
    "            lu = lu.replace(',', '').replace(';', '')\n",
    "            if lu == \"\":\n",
    "                continue\n",
    "            if lu[-1].isdigit():\n",
    "                lu = lu[:-1]\n",
    "            elif lu[-2].isdigit():\n",
    "                lu = lu[:-2]\n",
    "            lexical_units.append((id, lu, pos, lang, i))\n",
    "            id += 1\n",
    "    \n",
    "    if frenchlus and isinstance(frenchlus, str):\n",
    "        lang = 'fr'\n",
    "        lus = frenchlus.split('\\n')\n",
    "        for lu in lus:\n",
    "            lu = lu.replace(',', '').replace(';', '')\n",
    "            if lu == \"\":\n",
    "                continue\n",
    "            if lu[-1].isdigit():\n",
    "                lu = lu[:-1]\n",
    "            elif lu[-2].isdigit():\n",
    "                lu = lu[:-2]\n",
    "            lexical_units.append((id, lu, pos, lang, i))\n",
    "            id += 1\n",
    "\n",
    "    if isinstance(portugueselus, str) and portugueselus:\n",
    "        lang = 'pt'\n",
    "        lus = portugueselus.split('\\n')\n",
    "        for lu in lus:\n",
    "            lu = lu.replace(',', '').replace(';', '')\n",
    "            if lu == \"\":\n",
    "                continue\n",
    "            if lu[-1].isdigit():\n",
    "                lu = lu[:-1]\n",
    "            elif lu[-2].isdigit():\n",
    "                lu = lu[:-2]\n",
    "            lexical_units.append((id, lu, pos, lang, i))\n",
    "            id += 1\n",
    "\n",
    "    if chineselus and isinstance(chineselus, str):\n",
    "        lang = 'zh'\n",
    "        lus = chineselus.split('\\n')\n",
    "        for lu in lus:\n",
    "            lu = lu.replace(',', '').replace(';', '')\n",
    "            if lu == \"\":\n",
    "                continue\n",
    "            if lu[-1].isdigit():\n",
    "                lu = lu[:-1]\n",
    "            elif lu[-2].isdigit():\n",
    "                lu = lu[:-2]\n",
    "            lexical_units.append((id, lu, pos, lang, i))\n",
    "            id += 1\n",
    "    \n",
    "    if spanishlus and isinstance(spanishlus, str):\n",
    "        lang = 'es'\n",
    "        lus = spanishlus.split('\\n')\n",
    "        for lu in lus:\n",
    "            lu = lu.replace(',', '').replace(';', '')\n",
    "            if lu == \"\":\n",
    "                continue\n",
    "            if lu[-1].isdigit():\n",
    "                lu = lu[:-1]\n",
    "            elif lu[-2].isdigit():\n",
    "                lu = lu[:-2]\n",
    "            lexical_units.append((id, lu, pos, lang, i))\n",
    "            id += 1"
   ]
  },
  {
   "cell_type": "code",
   "execution_count": null,
   "metadata": {},
   "outputs": [],
   "source": [
    "cur.execute(\"\"\"\n",
    "CREATE TABLE dicoenviro_lus (\n",
    "    id INT, \n",
    "    word TEXT,\n",
    "    pos TEXT,\n",
    "    lang TEXT,\n",
    "    frame_id INT, \n",
    "    PRIMARY KEY (id)\n",
    ")\n",
    "\"\"\")\n",
    "cur.executemany(\"INSERT INTO dicoenviro_lus VALUES (?, ?, ?, ?, ?)\", lexical_units)\n",
    "con.commit()"
   ]
  },
  {
   "cell_type": "markdown",
   "metadata": {},
   "source": [
    "### GFOL"
   ]
  },
  {
   "cell_type": "code",
   "execution_count": 226,
   "metadata": {},
   "outputs": [],
   "source": [
    "data = pd.read_csv('./data/gfol.csv').to_numpy()"
   ]
  },
  {
   "cell_type": "markdown",
   "metadata": {},
   "source": [
    "#### 1. Frames"
   ]
  },
  {
   "cell_type": "code",
   "execution_count": 72,
   "metadata": {},
   "outputs": [],
   "source": [
    "frames = []\n",
    "for i, frame in enumerate(data):\n",
    "    frame_name = frame[0]\n",
    "    fes = frame[2].replace('\\n', ' ')\n",
    "    definition = frame[1]\n",
    "    link = frame[4]\n",
    "    frames.append((i, frame_name, fes, definition, link))"
   ]
  },
  {
   "cell_type": "code",
   "execution_count": 74,
   "metadata": {},
   "outputs": [
    {
     "data": {
      "text/html": [
       "<div>\n",
       "<style scoped>\n",
       "    .dataframe tbody tr th:only-of-type {\n",
       "        vertical-align: middle;\n",
       "    }\n",
       "\n",
       "    .dataframe tbody tr th {\n",
       "        vertical-align: top;\n",
       "    }\n",
       "\n",
       "    .dataframe thead th {\n",
       "        text-align: right;\n",
       "    }\n",
       "</style>\n",
       "<table border=\"1\" class=\"dataframe\">\n",
       "  <thead>\n",
       "    <tr style=\"text-align: right;\">\n",
       "      <th></th>\n",
       "      <th>id</th>\n",
       "      <th>frame</th>\n",
       "      <th>frame_elements</th>\n",
       "      <th>definition</th>\n",
       "      <th>link</th>\n",
       "    </tr>\n",
       "  </thead>\n",
       "  <tbody>\n",
       "    <tr>\n",
       "      <th>0</th>\n",
       "      <td>0</td>\n",
       "      <td>Age - TBP</td>\n",
       "      <td>Entity Age Expressor</td>\n",
       "      <td>The words and phrases in this frame reference ...</td>\n",
       "      <td>https://frames.coerll.utexas.edu/frames/age_TBP</td>\n",
       "    </tr>\n",
       "    <tr>\n",
       "      <th>1</th>\n",
       "      <td>1</td>\n",
       "      <td>Arguing</td>\n",
       "      <td>Side_1 Side_2 Sides Issue</td>\n",
       "      <td>The words and phrases in this frame describe a...</td>\n",
       "      <td>https://frames.coerll.utexas.edu/frames/arguing</td>\n",
       "    </tr>\n",
       "    <tr>\n",
       "      <th>2</th>\n",
       "      <td>2</td>\n",
       "      <td>Body Descriptions</td>\n",
       "      <td>Body_part Individual Descriptor</td>\n",
       "      <td>This frame is evoked by words describing the e...</td>\n",
       "      <td>https://frames.coerll.utexas.edu/frames/body%2...</td>\n",
       "    </tr>\n",
       "  </tbody>\n",
       "</table>\n",
       "</div>"
      ],
      "text/plain": [
       "   id              frame                   frame_elements  \\\n",
       "0   0          Age - TBP             Entity Age Expressor   \n",
       "1   1            Arguing        Side_1 Side_2 Sides Issue   \n",
       "2   2  Body Descriptions  Body_part Individual Descriptor   \n",
       "\n",
       "                                          definition  \\\n",
       "0  The words and phrases in this frame reference ...   \n",
       "1  The words and phrases in this frame describe a...   \n",
       "2  This frame is evoked by words describing the e...   \n",
       "\n",
       "                                                link  \n",
       "0    https://frames.coerll.utexas.edu/frames/age_TBP  \n",
       "1    https://frames.coerll.utexas.edu/frames/arguing  \n",
       "2  https://frames.coerll.utexas.edu/frames/body%2...  "
      ]
     },
     "execution_count": 74,
     "metadata": {},
     "output_type": "execute_result"
    }
   ],
   "source": [
    "example = frames[:3]\n",
    "gfol_frames = pd.DataFrame({'id': [x[0] for x in example],\n",
    "                           'frame':[x[1] for x in example],\n",
    "                           'frame_elements':[x[2] for x in example],\n",
    "                           'definition':[x[3] for x in example],\n",
    "                           'link': [x[4] for x in example]}, index=None)\n",
    "gfol_frames"
   ]
  },
  {
   "cell_type": "code",
   "execution_count": 75,
   "metadata": {},
   "outputs": [],
   "source": [
    "cur.execute(\"\"\"\n",
    "CREATE TABLE gfol (\n",
    "    id INT, \n",
    "    frame TEXT, \n",
    "    frame_elements TEXT,\n",
    "    definition TEXT,\n",
    "    link TEXT,\n",
    "    PRIMARY KEY (id)\n",
    ")\n",
    "\"\"\")\n",
    "cur.executemany(\"INSERT INTO gfol VALUES (?, ?, ?, ?, ?)\", frames)\n",
    "con.commit()"
   ]
  },
  {
   "cell_type": "markdown",
   "metadata": {},
   "source": [
    "#### 2. Lexical units"
   ]
  },
  {
   "cell_type": "code",
   "execution_count": 235,
   "metadata": {},
   "outputs": [],
   "source": [
    "pos_list = {'adjective' : 'a',\n",
    " 'adjective;' : 'a',\n",
    " 'adverb' : 'adv',\n",
    " 'conjunction' : 'c',\n",
    " 'construction' : 'idio',\n",
    " 'multi-word expression' : 'idio',\n",
    " 'noun' : 'noun',\n",
    " 'noun;' : 'noun',\n",
    " 'prefix' : 'prefix',\n",
    " 'preposition' : 'prep',\n",
    " 'verb' : 'v',\n",
    " 'verb;' : 'v'}\n",
    "\n",
    "id = 0\n",
    "lexical_units = []\n",
    "lang = 'de'\n",
    "for i, frame in enumerate(data):\n",
    "    lus_list = frame[3].split('\\n')\n",
    "    lus_list = [x.strip() for x in lus_list]\n",
    "    for lu in lus_list: \n",
    "        lu = lu.split(' - ')\n",
    "        if len(lu) == 1 or lu[1].isupper():\n",
    "            continue\n",
    "        lu, pos = lu[0], lu[1]\n",
    "        lexical_units.append((id, lu, pos_list[pos], lang, i))\n",
    "        id += 1"
   ]
  },
  {
   "cell_type": "code",
   "execution_count": 237,
   "metadata": {},
   "outputs": [],
   "source": [
    "cur.execute(\"\"\"\n",
    "CREATE TABLE gfol_lus (\n",
    "    id INT, \n",
    "    word TEXT,\n",
    "    pos TEXT,\n",
    "    lang TEXT,\n",
    "    frame_id INT, \n",
    "    PRIMARY KEY (id)\n",
    ")\n",
    "\"\"\")\n",
    "cur.executemany(\"INSERT INTO gfol_lus VALUES (?, ?, ?, ?, ?)\", lexical_units)\n",
    "con.commit()"
   ]
  },
  {
   "cell_type": "markdown",
   "metadata": {},
   "source": [
    "### DiCoInfo"
   ]
  },
  {
   "cell_type": "code",
   "execution_count": 238,
   "metadata": {},
   "outputs": [],
   "source": [
    "data = pd.read_csv('./data/dicoinfo.csv').to_numpy()"
   ]
  },
  {
   "cell_type": "markdown",
   "metadata": {},
   "source": [
    "#### 1. Frames"
   ]
  },
  {
   "cell_type": "code",
   "execution_count": 63,
   "metadata": {},
   "outputs": [],
   "source": [
    "frames = []\n",
    "for i, frame in enumerate(data):\n",
    "    frame_name = frame[1]\n",
    "    fes = frame[5]\n",
    "    link = frame[6]\n",
    "    definition = frame[7]\n",
    "    frames.append((i, frame_name, fes, definition, link))"
   ]
  },
  {
   "cell_type": "code",
   "execution_count": 64,
   "metadata": {},
   "outputs": [
    {
     "data": {
      "text/html": [
       "<div>\n",
       "<style scoped>\n",
       "    .dataframe tbody tr th:only-of-type {\n",
       "        vertical-align: middle;\n",
       "    }\n",
       "\n",
       "    .dataframe tbody tr th {\n",
       "        vertical-align: top;\n",
       "    }\n",
       "\n",
       "    .dataframe thead th {\n",
       "        text-align: right;\n",
       "    }\n",
       "</style>\n",
       "<table border=\"1\" class=\"dataframe\">\n",
       "  <thead>\n",
       "    <tr style=\"text-align: right;\">\n",
       "      <th></th>\n",
       "      <th>id</th>\n",
       "      <th>frame</th>\n",
       "      <th>frame_elements</th>\n",
       "      <th>definition</th>\n",
       "      <th>link</th>\n",
       "    </tr>\n",
       "  </thead>\n",
       "  <tbody>\n",
       "    <tr>\n",
       "      <th>0</th>\n",
       "      <td>0</td>\n",
       "      <td>Access_scenario</td>\n",
       "      <td>Agent Location Destination</td>\n",
       "      <td>Agent (user or system) connects to Location (n...</td>\n",
       "      <td>https://olst.ling.umontreal.ca/dicoinfo/framed...</td>\n",
       "    </tr>\n",
       "    <tr>\n",
       "      <th>1</th>\n",
       "      <td>1</td>\n",
       "      <td>Activity_resume</td>\n",
       "      <td>Patient Agent</td>\n",
       "      <td>Agent (user) resumes activity of Patient (prog...</td>\n",
       "      <td>https://olst.ling.umontreal.ca/dicoinfo/framed...</td>\n",
       "    </tr>\n",
       "    <tr>\n",
       "      <th>2</th>\n",
       "      <td>2</td>\n",
       "      <td>Activity_scenario</td>\n",
       "      <td>Agent Patient Environment1 Environment2</td>\n",
       "      <td>Agent (user) or Instrument (système or compute...</td>\n",
       "      <td>https://olst.ling.umontreal.ca/dicoinfo/framed...</td>\n",
       "    </tr>\n",
       "  </tbody>\n",
       "</table>\n",
       "</div>"
      ],
      "text/plain": [
       "   id              frame                           frame_elements  \\\n",
       "0   0    Access_scenario               Agent Location Destination   \n",
       "1   1    Activity_resume                            Patient Agent   \n",
       "2   2  Activity_scenario  Agent Patient Environment1 Environment2   \n",
       "\n",
       "                                          definition  \\\n",
       "0  Agent (user or system) connects to Location (n...   \n",
       "1  Agent (user) resumes activity of Patient (prog...   \n",
       "2  Agent (user) or Instrument (système or compute...   \n",
       "\n",
       "                                                link  \n",
       "0  https://olst.ling.umontreal.ca/dicoinfo/framed...  \n",
       "1  https://olst.ling.umontreal.ca/dicoinfo/framed...  \n",
       "2  https://olst.ling.umontreal.ca/dicoinfo/framed...  "
      ]
     },
     "execution_count": 64,
     "metadata": {},
     "output_type": "execute_result"
    }
   ],
   "source": [
    "example = frames[:3]\n",
    "dicoinfo_frames = pd.DataFrame({'id': [x[0] for x in example],\n",
    "                           'frame':[x[1] for x in example],\n",
    "                           'frame_elements':[x[2] for x in example],\n",
    "                           'definition':[x[3] for x in example],\n",
    "                           'link': [x[4] for x in example]}, index=None)\n",
    "dicoinfo_frames"
   ]
  },
  {
   "cell_type": "code",
   "execution_count": 65,
   "metadata": {},
   "outputs": [],
   "source": [
    "cur.execute(\"\"\"\n",
    "CREATE TABLE dicoinfo (\n",
    "    id INT, \n",
    "    frame TEXT, \n",
    "    frame_elements TEXT,\n",
    "    definition TEXT,\n",
    "    link TEXT,\n",
    "    PRIMARY KEY (id)\n",
    ")\n",
    "\"\"\")\n",
    "cur.executemany(\"INSERT INTO dicoinfo VALUES (?, ?, ?, ?, ?)\", frames)\n",
    "con.commit()"
   ]
  },
  {
   "cell_type": "markdown",
   "metadata": {},
   "source": [
    "#### 2. LUs"
   ]
  },
  {
   "cell_type": "code",
   "execution_count": 274,
   "metadata": {},
   "outputs": [],
   "source": [
    "lexical_units = []\n",
    "id = 0\n",
    "for i, frame in enumerate(data):\n",
    "    englishlus = frame[2]\n",
    "    frenchlus = frame[3]\n",
    "    arabiclus = frame[4]\n",
    "\n",
    "    if englishlus and isinstance(englishlus, str):\n",
    "        lang = 'en'\n",
    "        englishlus = englishlus.split('\\n')\n",
    "        for lu in englishlus:\n",
    "            lu = lu.replace(',', '').replace(';', '')\n",
    "            if lu == \"\":\n",
    "                continue\n",
    "            lu_list = lu.split('.')\n",
    "            if len(lu_list) == 2:\n",
    "                lu = lu_list[0]\n",
    "            elif len(lu_list) > 2:\n",
    "                lu_list = lu_list[:-1]\n",
    "                lu = \".\".join(lu_list)\n",
    "            else:\n",
    "                lu = lu\n",
    "            lexical_units.append((id, lu, '', lang, i))\n",
    "            id += 1\n",
    "    \n",
    "    if frenchlus and isinstance(frenchlus, str):\n",
    "        lang = 'fr'\n",
    "        frenchlus = frenchlus.split('\\n')\n",
    "        for lu in frenchlus:\n",
    "            lu = lu.replace(',', '').replace(';', '')\n",
    "            if lu == \"\":\n",
    "                continue\n",
    "            lu_list = lu.split('.')\n",
    "            if len(lu_list) == 2:\n",
    "                lu = lu_list[0]\n",
    "            elif len(lu_list) > 2:\n",
    "                lu_list = lu_list[:-1]\n",
    "                lu = \".\".join(lu_list)\n",
    "            else:\n",
    "                lu = lu\n",
    "            lexical_units.append((id, lu, '', lang, i))\n",
    "            id += 1\n",
    "    \n",
    "    if arabiclus and isinstance(arabiclus, str):\n",
    "        lang = 'ar'\n",
    "        arabiclus = arabiclus.split('\\n')\n",
    "        for lu in arabiclus:\n",
    "            lu = lu.replace(',', '').replace(';', '')\n",
    "            if lu == \"\":\n",
    "                continue\n",
    "            lu_list = lu.split('.')\n",
    "            if len(lu_list) == 2:\n",
    "                lu = lu_list[0]\n",
    "            else:\n",
    "                continue\n",
    "            lexical_units.append((id, lu, '', lang, i))\n",
    "            id += 1"
   ]
  },
  {
   "cell_type": "code",
   "execution_count": 276,
   "metadata": {},
   "outputs": [],
   "source": [
    "cur.execute(\"\"\"\n",
    "CREATE TABLE dicoinfo_lus (\n",
    "    id INT, \n",
    "    word TEXT,\n",
    "    pos TEXT,\n",
    "    lang TEXT,\n",
    "    frame_id INT, \n",
    "    PRIMARY KEY (id)\n",
    ")\n",
    "\"\"\")\n",
    "cur.executemany(\"INSERT INTO dicoinfo_lus VALUES (?, ?, ?, ?, ?)\", lexical_units)\n",
    "con.commit()"
   ]
  },
  {
   "cell_type": "markdown",
   "metadata": {},
   "source": [
    "### German FrameNet"
   ]
  },
  {
   "cell_type": "code",
   "execution_count": 277,
   "metadata": {},
   "outputs": [],
   "source": [
    "data = pd.read_csv('./data/germanframenet.csv').to_numpy()"
   ]
  },
  {
   "cell_type": "markdown",
   "metadata": {},
   "source": [
    "#### 1. Frames"
   ]
  },
  {
   "cell_type": "code",
   "execution_count": 86,
   "metadata": {},
   "outputs": [],
   "source": [
    "frames = []\n",
    "for frame in data:\n",
    "    id = frame[0]\n",
    "    frame_name = frame[1]\n",
    "    definition = frame[4]\n",
    "    fes_list = frame[3]\n",
    "    fes = fes_list.translate(str.maketrans('', '', punctuation))\n",
    "    link = frame[6]\n",
    "    frames.append((id, frame_name, fes, definition, link))"
   ]
  },
  {
   "cell_type": "code",
   "execution_count": 87,
   "metadata": {},
   "outputs": [
    {
     "data": {
      "text/html": [
       "<div>\n",
       "<style scoped>\n",
       "    .dataframe tbody tr th:only-of-type {\n",
       "        vertical-align: middle;\n",
       "    }\n",
       "\n",
       "    .dataframe tbody tr th {\n",
       "        vertical-align: top;\n",
       "    }\n",
       "\n",
       "    .dataframe thead th {\n",
       "        text-align: right;\n",
       "    }\n",
       "</style>\n",
       "<table border=\"1\" class=\"dataframe\">\n",
       "  <thead>\n",
       "    <tr style=\"text-align: right;\">\n",
       "      <th></th>\n",
       "      <th>id</th>\n",
       "      <th>frame</th>\n",
       "      <th>frame_elements</th>\n",
       "      <th>definition</th>\n",
       "      <th>link</th>\n",
       "    </tr>\n",
       "  </thead>\n",
       "  <tbody>\n",
       "    <tr>\n",
       "      <th>0</th>\n",
       "      <td>407</td>\n",
       "      <td>Abbrechen_von</td>\n",
       "      <td>Ganzes Teil</td>\n",
       "      <td>Ein einzelnes  FE:TeilTeil bricht von einem  F...</td>\n",
       "      <td>https://framenet-constructicon.hhu.de/framenet...</td>\n",
       "    </tr>\n",
       "    <tr>\n",
       "      <th>1</th>\n",
       "      <td>230</td>\n",
       "      <td>Abfangen</td>\n",
       "      <td>Abfänger Objekt</td>\n",
       "      <td>Ein willentlich handelnder  FE:AbfängerAbfänge...</td>\n",
       "      <td>https://framenet-constructicon.hhu.de/framenet...</td>\n",
       "    </tr>\n",
       "    <tr>\n",
       "      <th>2</th>\n",
       "      <td>772</td>\n",
       "      <td>Abfeuerungsort</td>\n",
       "      <td>Auslöseort</td>\n",
       "      <td>Ein  FE:AuslösenderAuslösender aktiviert von e...</td>\n",
       "      <td>https://framenet-constructicon.hhu.de/framenet...</td>\n",
       "    </tr>\n",
       "  </tbody>\n",
       "</table>\n",
       "</div>"
      ],
      "text/plain": [
       "    id           frame   frame_elements  \\\n",
       "0  407   Abbrechen_von      Ganzes Teil   \n",
       "1  230        Abfangen  Abfänger Objekt   \n",
       "2  772  Abfeuerungsort       Auslöseort   \n",
       "\n",
       "                                          definition  \\\n",
       "0  Ein einzelnes  FE:TeilTeil bricht von einem  F...   \n",
       "1  Ein willentlich handelnder  FE:AbfängerAbfänge...   \n",
       "2  Ein  FE:AuslösenderAuslösender aktiviert von e...   \n",
       "\n",
       "                                                link  \n",
       "0  https://framenet-constructicon.hhu.de/framenet...  \n",
       "1  https://framenet-constructicon.hhu.de/framenet...  \n",
       "2  https://framenet-constructicon.hhu.de/framenet...  "
      ]
     },
     "execution_count": 87,
     "metadata": {},
     "output_type": "execute_result"
    }
   ],
   "source": [
    "example = frames[:3]\n",
    "germanfn_frames = pd.DataFrame({'id': [x[0] for x in example],\n",
    "                           'frame':[x[1] for x in example],\n",
    "                           'frame_elements':[x[2] for x in example],\n",
    "                           'definition':[x[3] for x in example],\n",
    "                           'link': [x[4] for x in example]}, index=None)\n",
    "germanfn_frames"
   ]
  },
  {
   "cell_type": "code",
   "execution_count": 88,
   "metadata": {},
   "outputs": [],
   "source": [
    "cur.execute(\"\"\"\n",
    "CREATE TABLE germanfn (\n",
    "    id INT, \n",
    "    frame TEXT, \n",
    "    frame_elements TEXT,\n",
    "    definition TEXT,\n",
    "    link TEXT,\n",
    "    PRIMARY KEY (id)\n",
    ")\n",
    "\"\"\")\n",
    "cur.executemany(\"INSERT INTO germanfn VALUES (?, ?, ?, ?, ?)\", frames)\n",
    "con.commit()"
   ]
  },
  {
   "cell_type": "markdown",
   "metadata": {},
   "source": [
    "#### 2. Frames"
   ]
  },
  {
   "cell_type": "code",
   "execution_count": 284,
   "metadata": {},
   "outputs": [],
   "source": [
    "pos_list = {'ADJ' : 'a', \n",
    "            'ADV' : 'adv', \n",
    "            'KONJ' : 'c', \n",
    "            'MWA' : 'MWA', \n",
    "            'N' : 'n', \n",
    "            'NONE' : '', \n",
    "            'PRAEP' : 'prep', \n",
    "            'PRO' : 'PRO', \n",
    "            'PTK' : 'PTK', \n",
    "            'V' : 'v'}\n",
    "\n",
    "lexical_units = []\n",
    "id = 0\n",
    "lang = \"de\"\n",
    "for frame in data:\n",
    "    frame_id = frame[0]\n",
    "    units = frame[2]\n",
    "    if units == \"[]\":\n",
    "        continue\n",
    "    lus = units.split('),')\n",
    "    for lu_pos in lus:\n",
    "        lu_pos = lu_pos.translate(str.maketrans('', '', punctuation)).strip()\n",
    "        lu_pos = lu_pos.split(' ')\n",
    "        if len(lu_pos) == 2:\n",
    "            lu, pos = lu_pos\n",
    "        else:\n",
    "            pos = lu_pos[-1]\n",
    "            lu = ' '.join(lu_pos[:-1])\n",
    "        lexical_units.append((id, lu, pos_list[pos], lang, frame_id))\n",
    "        id += 1"
   ]
  },
  {
   "cell_type": "code",
   "execution_count": 286,
   "metadata": {},
   "outputs": [],
   "source": [
    "cur.execute(\"\"\"\n",
    "CREATE TABLE germanfn_lus (\n",
    "    id INT, \n",
    "    word TEXT,\n",
    "    pos TEXT,\n",
    "    lang TEXT,\n",
    "    frame_id INT, \n",
    "    PRIMARY KEY (id)\n",
    ")\n",
    "\"\"\")\n",
    "cur.executemany(\"INSERT INTO germanfn_lus VALUES (?, ?, ?, ?, ?)\", lexical_units)\n",
    "con.commit()"
   ]
  },
  {
   "cell_type": "markdown",
   "metadata": {},
   "source": [
    "### Spanish FrameNet"
   ]
  },
  {
   "cell_type": "code",
   "execution_count": 287,
   "metadata": {},
   "outputs": [],
   "source": [
    "data = pd.read_csv('./data/spanishframenet.csv').to_numpy()"
   ]
  },
  {
   "cell_type": "markdown",
   "metadata": {},
   "source": [
    "#### 1. Frames"
   ]
  },
  {
   "cell_type": "code",
   "execution_count": 97,
   "metadata": {},
   "outputs": [],
   "source": [
    "frames = []\n",
    "for i, frame in enumerate(data):\n",
    "    frame_name = frame[1]\n",
    "    fes = frame[3].replace('\\n','')\n",
    "    frames.append((i, frame_name, fes, frame[5], frame[4]))"
   ]
  },
  {
   "cell_type": "code",
   "execution_count": 98,
   "metadata": {},
   "outputs": [
    {
     "data": {
      "text/html": [
       "<div>\n",
       "<style scoped>\n",
       "    .dataframe tbody tr th:only-of-type {\n",
       "        vertical-align: middle;\n",
       "    }\n",
       "\n",
       "    .dataframe tbody tr th {\n",
       "        vertical-align: top;\n",
       "    }\n",
       "\n",
       "    .dataframe thead th {\n",
       "        text-align: right;\n",
       "    }\n",
       "</style>\n",
       "<table border=\"1\" class=\"dataframe\">\n",
       "  <thead>\n",
       "    <tr style=\"text-align: right;\">\n",
       "      <th></th>\n",
       "      <th>id</th>\n",
       "      <th>frame</th>\n",
       "      <th>frame_elements</th>\n",
       "      <th>definition</th>\n",
       "      <th>link</th>\n",
       "    </tr>\n",
       "  </thead>\n",
       "  <tbody>\n",
       "    <tr>\n",
       "      <th>0</th>\n",
       "      <td>0</td>\n",
       "      <td>Abounding_with</td>\n",
       "      <td>Location Theme</td>\n",
       "      <td>A Location is filled or covered with the Theme...</td>\n",
       "      <td>https://sfn.spanishfn.org/FRAMES/frames/Abound...</td>\n",
       "    </tr>\n",
       "    <tr>\n",
       "      <th>1</th>\n",
       "      <td>1</td>\n",
       "      <td>Achieving_first</td>\n",
       "      <td>Cognizer New_idea</td>\n",
       "      <td>A Cognizer introduces a New_idea into society....</td>\n",
       "      <td>https://sfn.spanishfn.org/FRAMES/frames/Achiev...</td>\n",
       "    </tr>\n",
       "    <tr>\n",
       "      <th>2</th>\n",
       "      <td>2</td>\n",
       "      <td>Activity</td>\n",
       "      <td>Activity Agent</td>\n",
       "      <td>This is an abstract frame for durative activit...</td>\n",
       "      <td>https://sfn.spanishfn.org/FRAMES/frames/Activi...</td>\n",
       "    </tr>\n",
       "  </tbody>\n",
       "</table>\n",
       "</div>"
      ],
      "text/plain": [
       "   id            frame     frame_elements  \\\n",
       "0   0   Abounding_with     Location Theme   \n",
       "1   1  Achieving_first  Cognizer New_idea   \n",
       "2   2         Activity    Activity Agent    \n",
       "\n",
       "                                          definition  \\\n",
       "0  A Location is filled or covered with the Theme...   \n",
       "1  A Cognizer introduces a New_idea into society....   \n",
       "2  This is an abstract frame for durative activit...   \n",
       "\n",
       "                                                link  \n",
       "0  https://sfn.spanishfn.org/FRAMES/frames/Abound...  \n",
       "1  https://sfn.spanishfn.org/FRAMES/frames/Achiev...  \n",
       "2  https://sfn.spanishfn.org/FRAMES/frames/Activi...  "
      ]
     },
     "execution_count": 98,
     "metadata": {},
     "output_type": "execute_result"
    }
   ],
   "source": [
    "example = frames[:3]\n",
    "spanishfn_frames = pd.DataFrame({'id': [x[0] for x in example],\n",
    "                           'frame':[x[1] for x in example],\n",
    "                           'frame_elements':[x[2] for x in example],\n",
    "                           'definition':[x[3] for x in example],\n",
    "                           'link': [x[4] for x in example]}, index=None)\n",
    "spanishfn_frames"
   ]
  },
  {
   "cell_type": "code",
   "execution_count": 99,
   "metadata": {},
   "outputs": [],
   "source": [
    "cur.execute(\"\"\"\n",
    "CREATE TABLE spanishfn (\n",
    "    id INT, \n",
    "    frame TEXT, \n",
    "    frame_elements TEXT,\n",
    "    definition TEXT,\n",
    "    link TEXT,\n",
    "    PRIMARY KEY (id)\n",
    ")\n",
    "\"\"\")\n",
    "cur.executemany(\"INSERT INTO spanishfn VALUES (?, ?, ?, ?, ?)\", frames)\n",
    "con.commit()"
   ]
  },
  {
   "cell_type": "markdown",
   "metadata": {},
   "source": [
    "#### 2. LUs"
   ]
  },
  {
   "cell_type": "code",
   "execution_count": 305,
   "metadata": {},
   "outputs": [],
   "source": [
    "lexical_units = []\n",
    "id = 0\n",
    "lang = 'es'\n",
    "for i, frame in enumerate(data):\n",
    "    units = frame[2]\n",
    "    if units and isinstance(units, str):\n",
    "        lus_list = units.split(', ')\n",
    "        for lu_pos in lus_list:\n",
    "            lu_pos.replace('\\n', '')\n",
    "            lu, pos = lu_pos.split('.')\n",
    "            pos = pos.replace('\\n', '')\n",
    "            lexical_units.append((id, lu, pos, lang, i))\n",
    "            id += 1"
   ]
  },
  {
   "cell_type": "code",
   "execution_count": 307,
   "metadata": {},
   "outputs": [],
   "source": [
    "cur.execute(\"\"\"\n",
    "CREATE TABLE spanishfn_lus (\n",
    "    id INT, \n",
    "    word TEXT,\n",
    "    pos TEXT,\n",
    "    lang TEXT,\n",
    "    frame_id INT, \n",
    "    PRIMARY KEY (id)\n",
    ")\n",
    "\"\"\")\n",
    "cur.executemany(\"INSERT INTO spanishfn_lus VALUES (?, ?, ?, ?, ?)\", lexical_units)\n",
    "con.commit()"
   ]
  },
  {
   "cell_type": "markdown",
   "metadata": {},
   "source": [
    "### Brasil FN"
   ]
  },
  {
   "cell_type": "code",
   "execution_count": 308,
   "metadata": {},
   "outputs": [],
   "source": [
    "data = pd.read_csv('./data/brasilframenet.csv').to_numpy()"
   ]
  },
  {
   "cell_type": "markdown",
   "metadata": {},
   "source": [
    "#### 1. Frames"
   ]
  },
  {
   "cell_type": "code",
   "execution_count": 51,
   "metadata": {},
   "outputs": [],
   "source": [
    "frames = []\n",
    "for frame in data:\n",
    "    id = frame[0]\n",
    "    frame_name = frame[1]\n",
    "    fes = frame[6]\n",
    "    if type(fes) is not float:\n",
    "        fes = fes.replace('\\n', ' ')\n",
    "    definition = frame[7]\n",
    "    link = frame[9]\n",
    "    frames.append((id, frame_name, fes, definition, link))"
   ]
  },
  {
   "cell_type": "code",
   "execution_count": 52,
   "metadata": {},
   "outputs": [
    {
     "data": {
      "text/html": [
       "<div>\n",
       "<style scoped>\n",
       "    .dataframe tbody tr th:only-of-type {\n",
       "        vertical-align: middle;\n",
       "    }\n",
       "\n",
       "    .dataframe tbody tr th {\n",
       "        vertical-align: top;\n",
       "    }\n",
       "\n",
       "    .dataframe thead th {\n",
       "        text-align: right;\n",
       "    }\n",
       "</style>\n",
       "<table border=\"1\" class=\"dataframe\">\n",
       "  <thead>\n",
       "    <tr style=\"text-align: right;\">\n",
       "      <th></th>\n",
       "      <th>id</th>\n",
       "      <th>frame</th>\n",
       "      <th>frame_elements</th>\n",
       "      <th>definition</th>\n",
       "      <th>link</th>\n",
       "    </tr>\n",
       "  </thead>\n",
       "  <tbody>\n",
       "    <tr>\n",
       "      <th>0</th>\n",
       "      <td>908</td>\n",
       "      <td>Abandonment</td>\n",
       "      <td>Agent Theme</td>\n",
       "      <td>An Agent leaves behind a Theme effectively ren...</td>\n",
       "      <td>https://webtool.framenetbr.ufjf.br/index.php/w...</td>\n",
       "    </tr>\n",
       "    <tr>\n",
       "      <th>1</th>\n",
       "      <td>237</td>\n",
       "      <td>Abounding_with</td>\n",
       "      <td>Location Theme</td>\n",
       "      <td>A Location is filled or covered with the Theme...</td>\n",
       "      <td>https://webtool.framenetbr.ufjf.br/index.php/w...</td>\n",
       "    </tr>\n",
       "    <tr>\n",
       "      <th>2</th>\n",
       "      <td>469</td>\n",
       "      <td>Absorb_heat</td>\n",
       "      <td>Container Entity Heat_source</td>\n",
       "      <td>An Entity (generally food) is exposed to a Hea...</td>\n",
       "      <td>https://webtool.framenetbr.ufjf.br/index.php/w...</td>\n",
       "    </tr>\n",
       "  </tbody>\n",
       "</table>\n",
       "</div>"
      ],
      "text/plain": [
       "    id           frame                frame_elements  \\\n",
       "0  908     Abandonment                   Agent Theme   \n",
       "1  237  Abounding_with                Location Theme   \n",
       "2  469     Absorb_heat  Container Entity Heat_source   \n",
       "\n",
       "                                          definition  \\\n",
       "0  An Agent leaves behind a Theme effectively ren...   \n",
       "1  A Location is filled or covered with the Theme...   \n",
       "2  An Entity (generally food) is exposed to a Hea...   \n",
       "\n",
       "                                                link  \n",
       "0  https://webtool.framenetbr.ufjf.br/index.php/w...  \n",
       "1  https://webtool.framenetbr.ufjf.br/index.php/w...  \n",
       "2  https://webtool.framenetbr.ufjf.br/index.php/w...  "
      ]
     },
     "execution_count": 52,
     "metadata": {},
     "output_type": "execute_result"
    }
   ],
   "source": [
    "example = frames[:3]\n",
    "brasilfn_frames = pd.DataFrame({'id': [x[0] for x in example],\n",
    "                           'frame':[x[1] for x in example],\n",
    "                           'frame_elements':[x[2] for x in example],\n",
    "                           'definition':[x[3] for x in example],\n",
    "                           'link': [x[4] for x in example]}, index=None)\n",
    "brasilfn_frames"
   ]
  },
  {
   "cell_type": "code",
   "execution_count": 53,
   "metadata": {},
   "outputs": [],
   "source": [
    "cur.execute(\"\"\"\n",
    "CREATE TABLE brasilfn (\n",
    "    id INT, \n",
    "    frame TEXT, \n",
    "    frame_elements TEXT,\n",
    "    definition TEXT,\n",
    "    link TEXT,\n",
    "    PRIMARY KEY (id)\n",
    ")\n",
    "\"\"\")\n",
    "cur.executemany(\"INSERT INTO brasilfn VALUES (?, ?, ?, ?, ?)\", frames)\n",
    "con.commit()"
   ]
  },
  {
   "cell_type": "markdown",
   "metadata": {},
   "source": [
    "#### 2. LUs"
   ]
  },
  {
   "cell_type": "code",
   "execution_count": 317,
   "metadata": {},
   "outputs": [],
   "source": [
    "def extract_lus(lang, lus, id, frame_id):\n",
    "    id = id\n",
    "    lex_un = []\n",
    "    lus = lus.split('\\n')\n",
    "    for lu in lus:\n",
    "        lu = lu.replace(';', '').replace(',', '')\n",
    "        if lu == \"\":\n",
    "            continue\n",
    "        lu_list = lu.split('.')\n",
    "        if len(lu_list) == 2:\n",
    "            lu, pos = lu_list\n",
    "        elif len(lu_list) > 2:\n",
    "            pos = lu_list[-1]\n",
    "            lu = \".\".join(lu_list[:-1])\n",
    "        else:\n",
    "            continue\n",
    "        lex_un.append((id, lu, pos, lang, frame_id))\n",
    "        id += 1\n",
    "    return lex_un, id\n",
    "\n",
    "lexical_units = []\n",
    "id = 0\n",
    "for frame in data:\n",
    "    frame_id = frame[0]\n",
    "    spanishlus = frame[2]\n",
    "    portugueselus = frame[3]\n",
    "    frenchlus = frame[4]\n",
    "    englishlus = frame[5]\n",
    "\n",
    "    if spanishlus and isinstance(spanishlus, str):\n",
    "        lex_un, id = extract_lus(\"es\", spanishlus, id, frame_id)\n",
    "        lexical_units.extend(lex_un)\n",
    "    \n",
    "    if portugueselus and isinstance(portugueselus, str):\n",
    "        lex_un, id = extract_lus(\"pt\", portugueselus, id, frame_id)\n",
    "        lexical_units.extend(lex_un)\n",
    "    \n",
    "    if frenchlus and isinstance(frenchlus, str):\n",
    "        lex_un, id = extract_lus(\"fr\", frenchlus, id, frame_id)\n",
    "        lexical_units.extend(lex_un)\n",
    "    \n",
    "    if englishlus and isinstance(englishlus, str):\n",
    "        lex_un, id = extract_lus(\"en\", englishlus, id, frame_id)\n",
    "        lexical_units.extend(lex_un)"
   ]
  },
  {
   "cell_type": "code",
   "execution_count": 319,
   "metadata": {},
   "outputs": [],
   "source": [
    "cur.execute(\"\"\"\n",
    "CREATE TABLE brasilfn_lus (\n",
    "    id INT, \n",
    "    word TEXT,\n",
    "    pos TEXT,\n",
    "    lang TEXT,\n",
    "    frame_id INT, \n",
    "    PRIMARY KEY (id)\n",
    ")\n",
    "\"\"\")\n",
    "cur.executemany(\"INSERT INTO brasilfn_lus VALUES (?, ?, ?, ?, ?)\", lexical_units)\n",
    "con.commit()"
   ]
  },
  {
   "cell_type": "markdown",
   "metadata": {},
   "source": [
    "### Multilingual FN"
   ]
  },
  {
   "cell_type": "code",
   "execution_count": 115,
   "metadata": {},
   "outputs": [],
   "source": [
    "data = pd.read_csv('./data/MultilingualFN.csv').to_numpy()"
   ]
  },
  {
   "cell_type": "code",
   "execution_count": 123,
   "metadata": {},
   "outputs": [],
   "source": [
    "frames = []\n",
    "for d in data:\n",
    "    frames.append((d[0], d[1], d[2], d[3], d[4], d[5], d[6], d[7], d[8], d[9],\n",
    "                  d[10], d[11], d[12], d[13], d[14], d[15], d[16], d[17]))"
   ]
  },
  {
   "cell_type": "code",
   "execution_count": 124,
   "metadata": {},
   "outputs": [],
   "source": [
    "cur.execute(\"\"\"\n",
    "CREATE TABLE multilingualfn (\n",
    "    multilingual_id INT, \n",
    "    frame_name TEXT,\n",
    "    swefn_frame_id INT,\n",
    "    swefn_match_evaluation TEXT,\n",
    "    brasilfn_frame_id INT,\n",
    "    brasilfn_match_evaluation TEXT,\n",
    "    dicoenviro_frame_id INT,\n",
    "    dicoenviro_match_evaluation TEXT,\n",
    "    bfn_frame_id INT,\n",
    "    bfn_match_evaluation TEXT,\n",
    "    gfol_frame_id INT,\n",
    "    gfol_match_evaluation TEXT,\n",
    "    dicoinfo_frame_id INT,\n",
    "    dicoinfo_match_evaluation TEXT,\n",
    "    germanfn_frame_id INT,\n",
    "    germanfn_match_evaluation TEXT,\n",
    "    spanishfn_frame_id INT,\n",
    "    spanishfn_match_evaluation TEXT,\n",
    "    PRIMARY KEY (multilingual_id)\n",
    ")\n",
    "\"\"\")\n",
    "cur.executemany(\"INSERT INTO multilingualfn VALUES (?, ?, ?, ?, ?, ?, ?, ?, ?, ?, ?, ?, ?, ?, ?, ?, ?, ?)\", frames)\n",
    "con.commit()"
   ]
  },
  {
   "cell_type": "markdown",
   "metadata": {},
   "source": [
    "### Multilingual LUs"
   ]
  },
  {
   "cell_type": "code",
   "execution_count": 3,
   "metadata": {},
   "outputs": [],
   "source": [
    "data = pd.read_csv('MultilingualLUs.csv').to_numpy()"
   ]
  },
  {
   "cell_type": "code",
   "execution_count": 4,
   "metadata": {},
   "outputs": [],
   "source": [
    "frames = []\n",
    "for id, d in enumerate(data):\n",
    "    frames.append((id + 1, d[0], d[1], d[2], d[3], d[4], d[5], d[6], d[7], d[8], d[9]))"
   ]
  },
  {
   "cell_type": "code",
   "execution_count": 7,
   "metadata": {},
   "outputs": [],
   "source": [
    "cur.execute(\"\"\"\n",
    "CREATE TABLE multilingualfn_lus (\n",
    "    lu_id INT, \n",
    "    lu TEXT,\n",
    "    language TEXT, \n",
    "    swefn_lu_id TEXT, \n",
    "    gfol_lu_id TEXT, \n",
    "    dicoenviro_lu_id TEXT, \n",
    "    dicoinfo_lu_id TEXT,\n",
    "    germanfn_lu_id TEXT,\n",
    "    brasilfn_lu_id TEXT, \n",
    "    spanishfn_lu_id TEXT,\n",
    "    bfn_lu_id TEXT,\n",
    "    PRIMARY KEY (lu_id)\n",
    ")\n",
    "\"\"\")\n",
    "cur.executemany(\"INSERT INTO multilingualfn_lus VALUES (?, ?, ?, ?, ?, ?, ?, ?, ?, ?, ?)\", frames)\n",
    "con.commit()"
   ]
  }
 ],
 "metadata": {
  "kernelspec": {
   "display_name": "Python 3",
   "language": "python",
   "name": "python3"
  },
  "language_info": {
   "codemirror_mode": {
    "name": "ipython",
    "version": 3
   },
   "file_extension": ".py",
   "mimetype": "text/x-python",
   "name": "python",
   "nbconvert_exporter": "python",
   "pygments_lexer": "ipython3",
   "version": "3.9.7"
  }
 },
 "nbformat": 4,
 "nbformat_minor": 2
}
